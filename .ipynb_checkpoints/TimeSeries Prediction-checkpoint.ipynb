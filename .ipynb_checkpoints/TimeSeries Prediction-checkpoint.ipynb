{
 "cells": [
  {
   "cell_type": "markdown",
   "id": "d87917a5",
   "metadata": {},
   "source": [
    "# Basics"
   ]
  },
  {
   "cell_type": "code",
   "execution_count": 1,
   "id": "b8356c85",
   "metadata": {},
   "outputs": [
    {
     "name": "stderr",
     "output_type": "stream",
     "text": [
      "C:\\Users\\nisha\\AppData\\Local\\Temp\\ipykernel_25560\\3790697608.py:19: FutureWarning: The pandas.datetime class is deprecated and will be removed from pandas in a future version. Import from datetime module instead.\n",
      "  from pandas import datetime\n"
     ]
    }
   ],
   "source": [
    "import logging\n",
    "import os\n",
    "import sys\n",
    "import threading\n",
    "import time\n",
    "from datetime import datetime, timedelta\n",
    "from dateutil import tz\n",
    "from pathlib import Path\n",
    "import numpy as np\n",
    "import alpaca_trade_api as tradeapi\n",
    "from alpaca_trade_api.rest import TimeFrame\n",
    "from dotenv import load_dotenv\n",
    "import pickle\n",
    "import itertools\n",
    "\n",
    "#from utils import pred_color, save_fig\n",
    "import pandas as pd\n",
    "from pandas.plotting import lag_plot\n",
    "import statsmodels.api as sm\n",
    "import math\n",
    "import numpy as np\n",
    "import pandas as pd\n",
    "from sklearn.preprocessing import MinMaxScaler \n",
    "import matplotlib.pyplot as plt\n",
    "import tensorflow as tf\n",
    "from tensorflow import keras\n",
    "from tensorflow.keras import layers, Sequential\n",
    "from tensorflow.keras.layers import LSTM, Dense, Dropout\n",
    "from tensorflow.keras.callbacks import EarlyStopping\n",
    "from tensorflow.keras.callbacks import ModelCheckpoint\n",
    "\n",
    "import numpy as np\n",
    "from sklearn.cluster import KMeans\n",
    "#import seaborn as sns\n",
    "from sklearn import metrics\n",
    "from sklearn.model_selection import train_test_split\n",
    "import matplotlib.pyplot as plt\n",
    "from datetime import datetime\n",
    "from matplotlib.colors import ListedColormap\n",
    "%matplotlib inline\n",
    "import os\n",
    "os.environ[\"OMP_NUM_THREADS\"] = \"1\" # Added the environment variable.\n",
    "\n",
    "import warnings\n",
    "warnings.filterwarnings(\"ignore\")\n",
    "warnings.simplefilter(action='ignore', category=FutureWarning)\n",
    "warnings.simplefilter(action='ignore', category=Warning)"
   ]
  },
  {
   "cell_type": "code",
   "execution_count": 2,
   "id": "5c2ada96",
   "metadata": {},
   "outputs": [],
   "source": [
    "dotenv_path = Path('./config/.env')\n",
    "load_dotenv(dotenv_path=dotenv_path)\n",
    "APCA_API_KEY_ID = os.environ.get(\"APCA_API_KEY_ID\")\n",
    "APCA_API_SECRET_KEY = os.environ.get(\"APCA_API_SECRET_KEY\")\n",
    "NY = 'America/New_York'\n",
    "CHI = 'America/Chicago'\n",
    "UTC = 'UTC'\n",
    "BASE_URL = \"https://paper-api.alpaca.markets\""
   ]
  },
  {
   "cell_type": "code",
   "execution_count": 3,
   "id": "e1eac14b",
   "metadata": {},
   "outputs": [],
   "source": [
    "tickers = ['META']\n",
    "api = tradeapi.REST(key_id=APCA_API_KEY_ID, secret_key=APCA_API_SECRET_KEY,\n",
    "                    base_url=BASE_URL, api_version='v2')"
   ]
  },
  {
   "cell_type": "code",
   "execution_count": 4,
   "id": "6aefda52",
   "metadata": {},
   "outputs": [
    {
     "name": "stdout",
     "output_type": "stream",
     "text": [
      "META\n"
     ]
    }
   ],
   "source": [
    "start_date = pd.Timestamp('2023-01-01T00:00', tz=UTC).isoformat()\n",
    "end_date = pd.Timestamp('2023-09-30T00:00', tz=UTC).isoformat()\n",
    "#end_date = (pd.Timestamp.now(tz=UTC) - timedelta(minutes=16)).isoformat()\n",
    "df1 = pd.DataFrame()\n",
    "for count1, ticker in enumerate(tickers):\n",
    "        print(ticker)\n",
    "        temp_df = api.get_bars(ticker, TimeFrame.Minute, start_date, end_date, adjustment='raw').df\n",
    "        temp_df['Ticker'] = ticker\n",
    "        df1 = pd.concat([df1, temp_df])"
   ]
  },
  {
   "cell_type": "code",
   "execution_count": 5,
   "id": "72f158f7",
   "metadata": {},
   "outputs": [],
   "source": [
    "path_file = './data'\n",
    "ticker_file = 'meta_data.pkl'\n",
    "pickle_out = open(path_file + '/' + ticker_file, \"wb\")\n",
    "pickle.dump(df1, pickle_out)\n",
    "pickle_out.close()"
   ]
  },
  {
   "cell_type": "code",
   "execution_count": 6,
   "id": "a04199e9",
   "metadata": {},
   "outputs": [
    {
     "data": {
      "text/html": [
       "<div>\n",
       "<style scoped>\n",
       "    .dataframe tbody tr th:only-of-type {\n",
       "        vertical-align: middle;\n",
       "    }\n",
       "\n",
       "    .dataframe tbody tr th {\n",
       "        vertical-align: top;\n",
       "    }\n",
       "\n",
       "    .dataframe thead th {\n",
       "        text-align: right;\n",
       "    }\n",
       "</style>\n",
       "<table border=\"1\" class=\"dataframe\">\n",
       "  <thead>\n",
       "    <tr style=\"text-align: right;\">\n",
       "      <th></th>\n",
       "      <th>close</th>\n",
       "      <th>high</th>\n",
       "      <th>low</th>\n",
       "      <th>trade_count</th>\n",
       "      <th>open</th>\n",
       "      <th>volume</th>\n",
       "      <th>vwap</th>\n",
       "      <th>Ticker</th>\n",
       "    </tr>\n",
       "    <tr>\n",
       "      <th>timestamp</th>\n",
       "      <th></th>\n",
       "      <th></th>\n",
       "      <th></th>\n",
       "      <th></th>\n",
       "      <th></th>\n",
       "      <th></th>\n",
       "      <th></th>\n",
       "      <th></th>\n",
       "    </tr>\n",
       "  </thead>\n",
       "  <tbody>\n",
       "    <tr>\n",
       "      <th>2023-01-03 09:00:00+00:00</th>\n",
       "      <td>121.56</td>\n",
       "      <td>121.73</td>\n",
       "      <td>120.99</td>\n",
       "      <td>46</td>\n",
       "      <td>120.99</td>\n",
       "      <td>2423</td>\n",
       "      <td>121.335984</td>\n",
       "      <td>META</td>\n",
       "    </tr>\n",
       "    <tr>\n",
       "      <th>2023-01-03 09:01:00+00:00</th>\n",
       "      <td>121.65</td>\n",
       "      <td>121.70</td>\n",
       "      <td>121.65</td>\n",
       "      <td>28</td>\n",
       "      <td>121.67</td>\n",
       "      <td>1006</td>\n",
       "      <td>121.666233</td>\n",
       "      <td>META</td>\n",
       "    </tr>\n",
       "    <tr>\n",
       "      <th>2023-01-03 09:04:00+00:00</th>\n",
       "      <td>121.99</td>\n",
       "      <td>121.99</td>\n",
       "      <td>121.98</td>\n",
       "      <td>12</td>\n",
       "      <td>121.98</td>\n",
       "      <td>1061</td>\n",
       "      <td>121.975730</td>\n",
       "      <td>META</td>\n",
       "    </tr>\n",
       "    <tr>\n",
       "      <th>2023-01-03 09:08:00+00:00</th>\n",
       "      <td>121.73</td>\n",
       "      <td>121.73</td>\n",
       "      <td>121.73</td>\n",
       "      <td>8</td>\n",
       "      <td>121.73</td>\n",
       "      <td>209</td>\n",
       "      <td>121.751914</td>\n",
       "      <td>META</td>\n",
       "    </tr>\n",
       "    <tr>\n",
       "      <th>2023-01-03 09:10:00+00:00</th>\n",
       "      <td>121.99</td>\n",
       "      <td>121.99</td>\n",
       "      <td>121.96</td>\n",
       "      <td>17</td>\n",
       "      <td>121.99</td>\n",
       "      <td>662</td>\n",
       "      <td>121.988429</td>\n",
       "      <td>META</td>\n",
       "    </tr>\n",
       "  </tbody>\n",
       "</table>\n",
       "</div>"
      ],
      "text/plain": [
       "                            close    high     low  trade_count    open  \\\n",
       "timestamp                                                                \n",
       "2023-01-03 09:00:00+00:00  121.56  121.73  120.99           46  120.99   \n",
       "2023-01-03 09:01:00+00:00  121.65  121.70  121.65           28  121.67   \n",
       "2023-01-03 09:04:00+00:00  121.99  121.99  121.98           12  121.98   \n",
       "2023-01-03 09:08:00+00:00  121.73  121.73  121.73            8  121.73   \n",
       "2023-01-03 09:10:00+00:00  121.99  121.99  121.96           17  121.99   \n",
       "\n",
       "                           volume        vwap Ticker  \n",
       "timestamp                                             \n",
       "2023-01-03 09:00:00+00:00    2423  121.335984   META  \n",
       "2023-01-03 09:01:00+00:00    1006  121.666233   META  \n",
       "2023-01-03 09:04:00+00:00    1061  121.975730   META  \n",
       "2023-01-03 09:08:00+00:00     209  121.751914   META  \n",
       "2023-01-03 09:10:00+00:00     662  121.988429   META  "
      ]
     },
     "execution_count": 6,
     "metadata": {},
     "output_type": "execute_result"
    }
   ],
   "source": [
    "df = pd.read_pickle('./data/meta_data.pkl')\n",
    "df.head(5)"
   ]
  },
  {
   "cell_type": "raw",
   "id": "4c098e89",
   "metadata": {},
   "source": [
    "In order to examine the impact of predictive powers in different financial Time Series, we built three\n",
    "deep learning models as well as one traditional time series model. They are 1) Time Series Model\n",
    "(ARIMA);2) RNN with LSTM Model (LSTM); 3) RNN with Stacked-LSTM (Stacked-LSTM);4)\n",
    "RNN with LSTM + Attention (Attention-LSTM)."
   ]
  },
  {
   "cell_type": "markdown",
   "id": "4b8a57dd",
   "metadata": {},
   "source": [
    "# RNN - stacked LSTM"
   ]
  },
  {
   "cell_type": "markdown",
   "id": "5bbd2dc3",
   "metadata": {},
   "source": [
    "## Single Attribute"
   ]
  },
  {
   "cell_type": "code",
   "execution_count": 7,
   "id": "cc8f6863",
   "metadata": {},
   "outputs": [
    {
     "data": {
      "text/html": [
       "<div>\n",
       "<style scoped>\n",
       "    .dataframe tbody tr th:only-of-type {\n",
       "        vertical-align: middle;\n",
       "    }\n",
       "\n",
       "    .dataframe tbody tr th {\n",
       "        vertical-align: top;\n",
       "    }\n",
       "\n",
       "    .dataframe thead th {\n",
       "        text-align: right;\n",
       "    }\n",
       "</style>\n",
       "<table border=\"1\" class=\"dataframe\">\n",
       "  <thead>\n",
       "    <tr style=\"text-align: right;\">\n",
       "      <th></th>\n",
       "      <th>close</th>\n",
       "      <th>high</th>\n",
       "      <th>low</th>\n",
       "      <th>trade_count</th>\n",
       "      <th>open</th>\n",
       "      <th>volume</th>\n",
       "      <th>vwap</th>\n",
       "      <th>Ticker</th>\n",
       "    </tr>\n",
       "    <tr>\n",
       "      <th>timestamp</th>\n",
       "      <th></th>\n",
       "      <th></th>\n",
       "      <th></th>\n",
       "      <th></th>\n",
       "      <th></th>\n",
       "      <th></th>\n",
       "      <th></th>\n",
       "      <th></th>\n",
       "    </tr>\n",
       "  </thead>\n",
       "  <tbody>\n",
       "    <tr>\n",
       "      <th>2023-01-03 09:00:00+00:00</th>\n",
       "      <td>121.56</td>\n",
       "      <td>121.73</td>\n",
       "      <td>120.99</td>\n",
       "      <td>46</td>\n",
       "      <td>120.99</td>\n",
       "      <td>2423</td>\n",
       "      <td>121.335984</td>\n",
       "      <td>META</td>\n",
       "    </tr>\n",
       "    <tr>\n",
       "      <th>2023-01-03 09:01:00+00:00</th>\n",
       "      <td>121.65</td>\n",
       "      <td>121.70</td>\n",
       "      <td>121.65</td>\n",
       "      <td>28</td>\n",
       "      <td>121.67</td>\n",
       "      <td>1006</td>\n",
       "      <td>121.666233</td>\n",
       "      <td>META</td>\n",
       "    </tr>\n",
       "    <tr>\n",
       "      <th>2023-01-03 09:04:00+00:00</th>\n",
       "      <td>121.99</td>\n",
       "      <td>121.99</td>\n",
       "      <td>121.98</td>\n",
       "      <td>12</td>\n",
       "      <td>121.98</td>\n",
       "      <td>1061</td>\n",
       "      <td>121.975730</td>\n",
       "      <td>META</td>\n",
       "    </tr>\n",
       "    <tr>\n",
       "      <th>2023-01-03 09:08:00+00:00</th>\n",
       "      <td>121.73</td>\n",
       "      <td>121.73</td>\n",
       "      <td>121.73</td>\n",
       "      <td>8</td>\n",
       "      <td>121.73</td>\n",
       "      <td>209</td>\n",
       "      <td>121.751914</td>\n",
       "      <td>META</td>\n",
       "    </tr>\n",
       "    <tr>\n",
       "      <th>2023-01-03 09:10:00+00:00</th>\n",
       "      <td>121.99</td>\n",
       "      <td>121.99</td>\n",
       "      <td>121.96</td>\n",
       "      <td>17</td>\n",
       "      <td>121.99</td>\n",
       "      <td>662</td>\n",
       "      <td>121.988429</td>\n",
       "      <td>META</td>\n",
       "    </tr>\n",
       "  </tbody>\n",
       "</table>\n",
       "</div>"
      ],
      "text/plain": [
       "                            close    high     low  trade_count    open  \\\n",
       "timestamp                                                                \n",
       "2023-01-03 09:00:00+00:00  121.56  121.73  120.99           46  120.99   \n",
       "2023-01-03 09:01:00+00:00  121.65  121.70  121.65           28  121.67   \n",
       "2023-01-03 09:04:00+00:00  121.99  121.99  121.98           12  121.98   \n",
       "2023-01-03 09:08:00+00:00  121.73  121.73  121.73            8  121.73   \n",
       "2023-01-03 09:10:00+00:00  121.99  121.99  121.96           17  121.99   \n",
       "\n",
       "                           volume        vwap Ticker  \n",
       "timestamp                                             \n",
       "2023-01-03 09:00:00+00:00    2423  121.335984   META  \n",
       "2023-01-03 09:01:00+00:00    1006  121.666233   META  \n",
       "2023-01-03 09:04:00+00:00    1061  121.975730   META  \n",
       "2023-01-03 09:08:00+00:00     209  121.751914   META  \n",
       "2023-01-03 09:10:00+00:00     662  121.988429   META  "
      ]
     },
     "execution_count": 7,
     "metadata": {},
     "output_type": "execute_result"
    }
   ],
   "source": [
    "df.head(5)"
   ]
  },
  {
   "cell_type": "code",
   "execution_count": 8,
   "id": "ad4a0164",
   "metadata": {},
   "outputs": [
    {
     "data": {
      "text/plain": [
       "Text(0, 0.5, 'Prices ($)')"
      ]
     },
     "execution_count": 8,
     "metadata": {},
     "output_type": "execute_result"
    },
    {
     "data": {
      "image/png": "[encoded data removed]",
      "text/plain": [
       "<Figure size 1500x800 with 1 Axes>"
      ]
     },
     "metadata": {},
     "output_type": "display_data"
    }
   ],
   "source": [
    "plt.figure(figsize=(15, 8))\n",
    "plt.title('Stock Prices History')\n",
    "plt.plot(df['close'])\n",
    "plt.xlabel('Date')\n",
    "plt.ylabel('Prices ($)')"
   ]
  },
  {
   "cell_type": "code",
   "execution_count": 9,
   "id": "db530201",
   "metadata": {},
   "outputs": [],
   "source": [
    "open_prices = df['open']\n",
    "values = open_prices.values\n",
    "training_data_len = math.ceil(len(values)* 0.8)\n",
    "\n",
    "scaler = MinMaxScaler(feature_range=(0,1))\n",
    "scaled_data = scaler.fit_transform(values.reshape(-1,1))\n",
    "train_data = scaled_data[0: training_data_len, :]\n",
    "\n",
    "x_train = []\n",
    "y_train = []\n",
    "\n",
    "for i in range(60, len(train_data)):\n",
    "    x_train.append(train_data[i-60:i, 0])\n",
    "    y_train.append(train_data[i, 0])\n",
    "    \n",
    "x_train, y_train = np.array(x_train), np.array(y_train)\n",
    "x_train = np.reshape(x_train, (x_train.shape[0], x_train.shape[1], 1))"
   ]
  },
  {
   "cell_type": "code",
   "execution_count": 10,
   "id": "71942835",
   "metadata": {},
   "outputs": [],
   "source": [
    "test_data = scaled_data[training_data_len-60: , : ]\n",
    "x_test = []\n",
    "y_test = values[training_data_len:]\n",
    "\n",
    "for i in range(60, len(test_data)):\n",
    "    x_test.append(test_data[i-60:i, 0])\n",
    "\n",
    "x_test = np.array(x_test)\n",
    "x_test = np.reshape(x_test, (x_test.shape[0], x_test.shape[1], 1))"
   ]
  },
  {
   "cell_type": "code",
   "execution_count": 11,
   "id": "d2b8aa15",
   "metadata": {},
   "outputs": [
    {
     "name": "stdout",
     "output_type": "stream",
     "text": [
      "Model: \"sequential\"\n",
      "_________________________________________________________________\n",
      " Layer (type)                Output Shape              Param #   \n",
      "=================================================================\n",
      " lstm (LSTM)                 (None, 60, 100)           40800     \n",
      "                                                                 \n",
      " lstm_1 (LSTM)               (None, 100)               80400     \n",
      "                                                                 \n",
      " dense (Dense)               (None, 64)                6464      \n",
      "                                                                 \n",
      " dense_1 (Dense)             (None, 1)                 65        \n",
      "                                                                 \n",
      "=================================================================\n",
      "Total params: 127,729\n",
      "Trainable params: 127,729\n",
      "Non-trainable params: 0\n",
      "_________________________________________________________________\n"
     ]
    }
   ],
   "source": [
    "model = keras.Sequential()\n",
    "model.add(layers.LSTM(100, return_sequences=True, input_shape=(x_train.shape[1], 1)))\n",
    "model.add(layers.LSTM(100, return_sequences=False))\n",
    "model.add(layers.Dense(64,  activation=\"relu\", input_shape=(10,)))\n",
    "model.add(layers.Dense(1))\n",
    "model.summary()"
   ]
  },
  {
   "cell_type": "code",
   "execution_count": null,
   "id": "5b770ada",
   "metadata": {},
   "outputs": [
    {
     "name": "stdout",
     "output_type": "stream",
     "text": [
      "Epoch 1/40\n",
      " 339/1486 [=====>........................] - ETA: 10s - loss: 0.0030"
     ]
    }
   ],
   "source": [
    "file_path = '.\\models\\my_model.h5'\n",
    "model.compile(optimizer='adam', loss='mean_squared_error')\n",
    "#model.fit(x_train, y_train, batch_size= 1, epochs=1)\n",
    "\n",
    "es = EarlyStopping(monitor='loss', mode='min', verbose=1, patience=5)\n",
    "mc = ModelCheckpoint(file_path, monitor='loss', mode='min', verbose=1, save_best_only=True)\n",
    "model.fit(x_train, y_train,  epochs=40, batch_size=64, callbacks=[es, mc])"
   ]
  },
  {
   "cell_type": "code",
   "execution_count": null,
   "id": "c4d72015",
   "metadata": {},
   "outputs": [],
   "source": [
    "predictions = model.predict(x_test)\n",
    "predictions = scaler.inverse_transform(predictions)\n",
    "rmse = np.sqrt(np.mean(predictions - y_test)**2)"
   ]
  },
  {
   "cell_type": "code",
   "execution_count": null,
   "id": "d6ecbff5",
   "metadata": {},
   "outputs": [],
   "source": [
    "rmse\n",
    "\n",
    "# 2.3591238157518872\n",
    "# 0.40202189924798\n",
    "# 1.3736014185068552\n",
    "#0.20572080651738656"
   ]
  },
  {
   "cell_type": "code",
   "execution_count": null,
   "id": "8549bd86",
   "metadata": {},
   "outputs": [],
   "source": [
    "results = model.evaluate(x_test, y_test)\n",
    "print(\"test loss, test acc:\", np.round(results, 4))"
   ]
  },
  {
   "cell_type": "code",
   "execution_count": null,
   "id": "00febf6c",
   "metadata": {},
   "outputs": [],
   "source": [
    "data = df.filter(['open'])\n",
    "train = data[:training_data_len]\n",
    "validation = data[training_data_len:]\n",
    "validation['Predictions'] = predictions\n",
    "plt.figure(figsize=(16,8))\n",
    "plt.title('Model')\n",
    "plt.xlabel('Date')\n",
    "plt.ylabel('open Price USD ($)')\n",
    "plt.plot(train)\n",
    "plt.plot(validation[['open', 'Predictions']])\n",
    "plt.legend(['Train', 'Val', 'Predictions'], loc='lower right')\n",
    "plt.show()"
   ]
  },
  {
   "cell_type": "code",
   "execution_count": null,
   "id": "52a5f067",
   "metadata": {},
   "outputs": [],
   "source": [
    "model.save('.\\models\\my_model.h5') "
   ]
  },
  {
   "cell_type": "code",
   "execution_count": null,
   "id": "393b7030",
   "metadata": {},
   "outputs": [],
   "source": [
    "# Save the model architecture to a JSON file\n",
    "model_json = model.to_json()\n",
    "with open(\".\\models\\model.json\", \"w\") as json_file:\n",
    "    json_file.write(model_json)"
   ]
  },
  {
   "cell_type": "code",
   "execution_count": null,
   "id": "01e9713a",
   "metadata": {},
   "outputs": [],
   "source": [
    "# Save the model weights to an HDF5 file\n",
    "model.save_weights(\".\\models\\model_weights.h5\")"
   ]
  },
  {
   "cell_type": "markdown",
   "id": "5f8705fa",
   "metadata": {},
   "source": [
    "## Multiple Attributes"
   ]
  },
  {
   "cell_type": "markdown",
   "id": "e935bce0",
   "metadata": {},
   "source": [
    "- open price\n",
    "- Volume"
   ]
  },
  {
   "cell_type": "code",
   "execution_count": null,
   "id": "1aceb32f",
   "metadata": {},
   "outputs": [],
   "source": [
    "df = pd.read_pickle('./data/meta_data.pkl')\n",
    "df = df.drop(['high', 'low', 'trade_count', 'close', 'vwap', 'Ticker'], axis=1)\n",
    "df=df.reset_index(drop = True)"
   ]
  },
  {
   "cell_type": "code",
   "execution_count": null,
   "id": "5438028c",
   "metadata": {},
   "outputs": [],
   "source": [
    "df"
   ]
  },
  {
   "cell_type": "code",
   "execution_count": null,
   "id": "bc575164",
   "metadata": {},
   "outputs": [],
   "source": [
    "# Feature Scaling\n",
    "sc = MinMaxScaler(feature_range=(0, 1))\n",
    "df_scaled = sc.fit_transform(df)"
   ]
  },
  {
   "cell_type": "code",
   "execution_count": null,
   "id": "4a431f7d",
   "metadata": {},
   "outputs": [],
   "source": [
    "df_scaled.shape"
   ]
  },
  {
   "cell_type": "code",
   "execution_count": null,
   "id": "b95b5f7f",
   "metadata": {},
   "outputs": [],
   "source": [
    "from sklearn.model_selection import train_test_split"
   ]
  },
  {
   "cell_type": "code",
   "execution_count": null,
   "id": "62be5df8",
   "metadata": {},
   "outputs": [],
   "source": [
    "train_size=0.8"
   ]
  },
  {
   "cell_type": "code",
   "execution_count": null,
   "id": "cfb75cf8",
   "metadata": {},
   "outputs": [],
   "source": [
    "# Creating a data structure (it does not work when you have only one feature)\n",
    "def create_data(df, n_future, n_past, train_test_split_percentage, validation_split_percentage):\n",
    "    n_feature = df.shape[1]\n",
    "    x_data, y_data = [], []\n",
    "    \n",
    "    for i in range(n_past, len(df) - n_future + 1):\n",
    "        x_data.append(df[i - n_past:i, 0:n_feature])\n",
    "        y_data.append(df[i + n_future - 1:i + n_future, 0])\n",
    "    \n",
    "    split_training_test_starting_point = int(round(train_test_split_percentage*len(x_data)))\n",
    "    split_train_validation_starting_point = int(round(split_training_test_starting_point*(1-validation_split_percentage)))\n",
    "    \n",
    "    x_train = x_data[:split_train_validation_starting_point]\n",
    "    y_train = y_data[:split_train_validation_starting_point]\n",
    "    \n",
    "    # if you want to choose the validation set by yourself, uncomment the below code.\n",
    "    x_val = x_data[split_train_validation_starting_point:split_training_test_starting_point]\n",
    "    y_val =  x_data[split_train_validation_starting_point:split_training_test_starting_point]                                             \n",
    "    \n",
    "    x_test = x_data[split_training_test_starting_point:]\n",
    "    y_test = y_data[split_training_test_starting_point:]\n",
    "    \n",
    "    return np.array(x_train), np.array(x_test), np.array(x_val), np.array(y_train), np.array(y_test), np.array(y_val)"
   ]
  },
  {
   "cell_type": "code",
   "execution_count": null,
   "id": "f8aa3999",
   "metadata": {},
   "outputs": [],
   "source": [
    "# Number of days you want to predict into the future\n",
    "# Number of past days you want to use to predict the future\n",
    "\n",
    "X_train, X_test, X_val, y_train, y_test, y_val = create_data(df_scaled, \n",
    "                                                             n_future=5, \n",
    "                                                             n_past=25, \n",
    "                                                             train_test_split_percentage=0.8,                                               \n",
    "                                                             validation_split_percentage = 0)"
   ]
  },
  {
   "cell_type": "code",
   "execution_count": null,
   "id": "11e1f8dd",
   "metadata": {},
   "outputs": [],
   "source": [
    "print(X_train.shape)\n",
    "print(X_test.shape)\n",
    "\n",
    "print(y_train.shape)\n",
    "print(y_test.shape)"
   ]
  },
  {
   "cell_type": "markdown",
   "id": "e0e11e7d",
   "metadata": {},
   "source": [
    "### Train Model"
   ]
  },
  {
   "cell_type": "code",
   "execution_count": null,
   "id": "c4eb6157",
   "metadata": {},
   "outputs": [],
   "source": [
    "# ------------------LSTM-----------------------\n",
    "model = keras.Sequential()\n",
    "model.add(LSTM(units=16, return_sequences=True, input_shape=(X_train.shape[1], X_train.shape[2])))\n",
    "model.add(Dropout(0.2))\n",
    "\n",
    "model.add(LSTM(units=16, return_sequences=False))\n",
    "model.add(Dropout(0.2))\n",
    "model.add(Dense(units=1, activation='linear'))\n",
    "model.compile(optimizer='adam', loss='mse', metrics=[tf.keras.metrics.RootMeanSquaredError()])\n",
    "\n",
    "model.summary()"
   ]
  },
  {
   "cell_type": "code",
   "execution_count": null,
   "id": "a0040042",
   "metadata": {},
   "outputs": [],
   "source": [
    "es = EarlyStopping(monitor='val_loss', mode='min', verbose=1, patience=5)\n",
    "\n",
    "# fit model\n",
    "history = model.fit(X_train, y_train, validation_split=0.3, epochs=40, batch_size=64, callbacks=[es])"
   ]
  },
  {
   "cell_type": "code",
   "execution_count": null,
   "id": "51559043",
   "metadata": {},
   "outputs": [],
   "source": [
    "history.history.keys()"
   ]
  },
  {
   "cell_type": "code",
   "execution_count": null,
   "id": "0872f197",
   "metadata": {},
   "outputs": [],
   "source": [
    "fig = plt.figure(figsize=(20,7))\n",
    "fig.add_subplot(121)\n",
    "\n",
    "# Accuracy\n",
    "plt.plot(history.epoch, history.history['root_mean_squared_error'], label = \"rmse\")\n",
    "plt.plot(history.epoch, history.history['val_root_mean_squared_error'], label = \"val_rmse\")\n",
    "\n",
    "plt.title(\"RMSE\", fontsize=18)\n",
    "plt.xlabel(\"Epochs\", fontsize=15)\n",
    "plt.ylabel(\"RMSE\", fontsize=15)\n",
    "plt.grid(alpha=0.3)\n",
    "plt.legend()\n",
    "\n",
    "\n",
    "#Adding Subplot 1 (For Loss)\n",
    "fig.add_subplot(122)\n",
    "\n",
    "plt.plot(history.epoch, history.history['loss'], label=\"loss\")\n",
    "plt.plot(history.epoch, history.history['val_loss'], label=\"val_loss\")\n",
    "\n",
    "plt.title(\"Loss\", fontsize=18)\n",
    "plt.xlabel(\"Epochs\", fontsize=15)\n",
    "plt.ylabel(\"Loss\", fontsize=15)\n",
    "plt.grid(alpha=0.3)\n",
    "plt.legend()\n",
    "\n",
    "plt.show()"
   ]
  },
  {
   "cell_type": "code",
   "execution_count": null,
   "id": "46a5a10d",
   "metadata": {},
   "outputs": [],
   "source": [
    "results = model.evaluate(X_test, y_test)\n",
    "print(\"test loss, test acc:\", np.round(results, 4))"
   ]
  },
  {
   "cell_type": "markdown",
   "id": "25b6f9ac",
   "metadata": {},
   "source": [
    "### Hyperparameter Tuning"
   ]
  },
  {
   "cell_type": "code",
   "execution_count": null,
   "id": "38bbb183",
   "metadata": {},
   "outputs": [],
   "source": [
    "def LSTM_HyperParameter_Tuning(config, x_train, y_train, x_test, y_test):\n",
    "    \n",
    "    first_additional_layer, second_additional_layer, third_additional_layer, n_neurons, n_batch_size, dropout = config\n",
    "    possible_combinations = list(itertools.product(first_additional_layer, second_additional_layer, third_additional_layer,\n",
    "                                                  n_neurons, n_batch_size, dropout))\n",
    "    \n",
    "    print(possible_combinations)\n",
    "    print('\\n')\n",
    "    \n",
    "    hist = []\n",
    "    \n",
    "    for i in range(0, len(possible_combinations)):\n",
    "        \n",
    "        print(f'{i+1}th combination: \\n')\n",
    "        print('--------------------------------------------------------------------')\n",
    "        \n",
    "        first_additional_layer, second_additional_layer, third_additional_layer, n_neurons, n_batch_size, dropout = possible_combinations[i]\n",
    "        \n",
    "        # instantiating the model in the strategy scope creates the model on the TPU\n",
    "        #with tpu_strategy.scope():\n",
    "        regressor = Sequential()\n",
    "        regressor.add(LSTM(units=n_neurons, return_sequences=True, input_shape=(x_train.shape[1], x_train.shape[2])))\n",
    "        regressor.add(Dropout(dropout))\n",
    "\n",
    "        if first_additional_layer:\n",
    "            regressor.add(LSTM(units=n_neurons, return_sequences=True))\n",
    "            regressor.add(Dropout(dropout))\n",
    "\n",
    "        if second_additional_layer:\n",
    "            regressor.add(LSTM(units=n_neurons, return_sequences=True))\n",
    "            regressor.add(Dropout(dropout))\n",
    "\n",
    "        if third_additional_layer:\n",
    "            regressor.add(GRU(units=n_neurons, return_sequences=True))\n",
    "            regressor.add(Dropout(dropout))\n",
    "\n",
    "        regressor.add(LSTM(units=n_neurons, return_sequences=False))\n",
    "        regressor.add(Dropout(dropout))\n",
    "        regressor.add(Dense(units=1, activation='linear'))\n",
    "        regressor.compile(optimizer='adam', loss='mse', metrics=[tf.keras.metrics.RootMeanSquaredError()])\n",
    "\n",
    "        es = EarlyStopping(monitor='val_loss', mode='min', verbose=1, patience=5)\n",
    "\n",
    "        file_path = 'best_model.h5'\n",
    "\n",
    "        mc = ModelCheckpoint(file_path, monitor='val_loss', mode='min', verbose=1, save_best_only=True)\n",
    "\n",
    "        regressor.fit(x_train, y_train, validation_split=0.3, epochs=40, batch_size=n_batch_size, callbacks=[es, mc], verbose=0)\n",
    "\n",
    "        train_accuracy = regressor.evaluate(x_train, y_train, verbose=0)\n",
    "        test_accuracy = regressor.evaluate(x_test, y_test, verbose=0)\n",
    "\n",
    "        hist.append(list((first_additional_layer, second_additional_layer, third_additional_layer, n_neurons, n_batch_size, dropout,\n",
    "                          train_accuracy, test_accuracy)))\n",
    "\n",
    "        print(f'{str(i)}-th combination = {possible_combinations[i]} \\n train accuracy: {train_accuracy} and test accuracy: {test_accuracy}')\n",
    "        \n",
    "        print('--------------------------------------------------------------------')\n",
    "        print('--------------------------------------------------------------------')\n",
    "        print('--------------------------------------------------------------------')\n",
    "        print('--------------------------------------------------------------------')\n",
    "         \n",
    "    return hist"
   ]
  },
  {
   "cell_type": "code",
   "execution_count": null,
   "id": "290f061b",
   "metadata": {},
   "outputs": [],
   "source": [
    "config = [[False], [False], [False], [16, 32], [8, 16, 32], [0.2]]  \n",
    "\n",
    "hist = LSTM_HyperParameter_Tuning(config, X_train, y_train, X_test, y_test)  "
   ]
  },
  {
   "cell_type": "markdown",
   "id": "9f7b6cdc",
   "metadata": {},
   "source": [
    "### Best Model"
   ]
  },
  {
   "cell_type": "code",
   "execution_count": null,
   "id": "9c74a6de",
   "metadata": {},
   "outputs": [],
   "source": [
    "hist = pd.DataFrame(hist)\n",
    "hist = hist.sort_values(by=[7], ascending=True)\n",
    "hist"
   ]
  },
  {
   "cell_type": "markdown",
   "id": "4293e2b8",
   "metadata": {},
   "source": [
    "### results"
   ]
  },
  {
   "cell_type": "code",
   "execution_count": null,
   "id": "00e7ad1c",
   "metadata": {},
   "outputs": [],
   "source": [
    "print(f'Best Combination: \\n first_additional_layer = {hist.iloc[0, 0]}\\n second_additional_layer = {hist.iloc[0, 1]}\\n third_additional_layer = {hist.iloc[0, 2]}\\n n_neurons = {hist.iloc[0, 3]}\\n n_batch_size = {hist.iloc[0, 4]}\\n dropout = {hist.iloc[0, 5]}')\n",
    "print('**************************')\n",
    "print(f'Results Before Tunning:\\n Test Set RMSE: {np.round(results, 4)[1]}\\n')\n",
    "print(f'Results After Tunning:\\n Test Set RMSE: {np.round(hist.iloc[0, -1], 4)[1]}\\n')\n",
    "print(f'{np.round((results[1] - hist.iloc[0, -1][1])*100/np.round(results, 4)[1])}% Improvement')"
   ]
  },
  {
   "cell_type": "code",
   "execution_count": null,
   "id": "974c8350",
   "metadata": {},
   "outputs": [],
   "source": [
    "first_additional_layer,second_additional_layer, third_additional_layer, n_neurons, n_batch_size, dropout = list(hist.iloc[0, :-2])"
   ]
  },
  {
   "cell_type": "code",
   "execution_count": null,
   "id": "72373fa8",
   "metadata": {},
   "outputs": [],
   "source": [
    "regressor = Sequential()\n",
    "regressor.add(LSTM(units=n_neurons, return_sequences=True, input_shape=(X_train.shape[1], X_train.shape[2])))\n",
    "regressor.add(Dropout(dropout))\n",
    "\n",
    "if first_additional_layer:\n",
    "    regressor.add(LSTM(units=n_neurons, return_sequences=True))\n",
    "    regressor.add(Dropout(dropout))\n",
    "\n",
    "if second_additional_layer:\n",
    "    regressor.add(LSTM(units=n_neurons, return_sequences=True))\n",
    "    regressor.add(Dropout(dropout))\n",
    "\n",
    "if third_additional_layer:\n",
    "    regressor.add(GRU(units=n_neurons, return_sequences=True))\n",
    "    regressor.add(Dropout(dropout))\n",
    "\n",
    "regressor.add(LSTM(units=n_neurons, return_sequences=False))\n",
    "regressor.add(Dropout(dropout))\n",
    "regressor.add(Dense(units=1, activation='linear'))\n",
    "regressor.compile(optimizer='adam', loss='mse')\n",
    "\n",
    "es = EarlyStopping(monitor='val_loss', mode='min', verbose=1, patience=5)\n",
    "\n",
    "file_path = '.\\models\\best_model.h5'\n",
    "\n",
    "mc = ModelCheckpoint(file_path, monitor='val_loss', mode='min', verbose=1, save_best_only=True)\n",
    "\n",
    "regressor.fit(X_train, y_train, validation_split=0.3, epochs=40, batch_size=n_batch_size, callbacks=[es, mc], verbose=0)"
   ]
  },
  {
   "cell_type": "code",
   "execution_count": null,
   "id": "946899f8",
   "metadata": {},
   "outputs": [],
   "source": [
    "regressor.evaluate(X_test, y_test)"
   ]
  },
  {
   "cell_type": "code",
   "execution_count": null,
   "id": "4c2cecb2",
   "metadata": {},
   "outputs": [],
   "source": [
    "y_pred = regressor.predict(X_test)\n",
    "\n",
    "plt.figure(figsize=(16,8), dpi= 100, facecolor='w', edgecolor='k')\n",
    "\n",
    "plt.plot(y_test, color='red', label = 'Real close Price')\n",
    "plt.plot(y_pred, color='green', label = 'Predicted close Price')\n",
    "plt.legend(loc='best')"
   ]
  },
  {
   "cell_type": "code",
   "execution_count": null,
   "id": "fe09098d",
   "metadata": {},
   "outputs": [],
   "source": [
    "rmse = np.sqrt(np.mean(y_pred - y_test)**2)\n",
    "rmse"
   ]
  },
  {
   "cell_type": "markdown",
   "id": "3f67fafa",
   "metadata": {},
   "source": [
    "# Arima"
   ]
  },
  {
   "cell_type": "markdown",
   "id": "f73aec3a",
   "metadata": {},
   "source": [
    "## Correlation"
   ]
  },
  {
   "cell_type": "code",
   "execution_count": null,
   "id": "96c6af7b",
   "metadata": {},
   "outputs": [],
   "source": [
    "plt.figure()\n",
    "lag_plot(df['open'], lag=3)\n",
    "plt.title('Meta Stock - Autocorrelation plot with lag = 3')\n",
    "plt.show()"
   ]
  },
  {
   "cell_type": "markdown",
   "id": "24063f1f",
   "metadata": {},
   "source": [
    "## Model"
   ]
  },
  {
   "cell_type": "code",
   "execution_count": null,
   "id": "49963ce1",
   "metadata": {},
   "outputs": [],
   "source": [
    "train_data, test_data = df[0:int(len(df)*0.8)], df[int(len(df)*0.8):]\n",
    "training_data = train_data['open'].values\n",
    "test_data = test_data['open'].values\n",
    "history = [x for x in training_data]\n",
    "model_predictions = []\n",
    "N_test_observations = len(test_data)\n",
    "for time_point in range(N_test_observations):\n",
    "    model = sm.tsa.arima.ARIMA(history, order=(4,1,0))\n",
    "    model_fit = model.fit()\n",
    "    output = model_fit.forecast()\n",
    "    yhat = output[0]\n",
    "    model_predictions.append(yhat)\n",
    "    true_test_value = test_data[time_point]\n",
    "    history.append(true_test_value)\n",
    "MSE_error = mean_squared_error(test_data, model_predictions)\n",
    "print('Testing Mean Squared Error is {}'.format(MSE_error))"
   ]
  },
  {
   "cell_type": "code",
   "execution_count": null,
   "id": "247d0368",
   "metadata": {},
   "outputs": [],
   "source": [
    "test_set_range = df[int(len(df)*0.7):].index\n",
    "plt.plot(test_set_range, model_predictions, color='blue', marker='o', linestyle='dashed',label='Predicted Price')\n",
    "plt.plot(test_set_range, test_data, color='red', label='Actual Price')\n",
    "plt.title('Meta Prices Prediction')\n",
    "plt.xlabel('Date')\n",
    "plt.ylabel('Prices')\n",
    "plt.xticks(np.arange(881,1259,50), df.Date[881:1259:50])\n",
    "plt.legend()\n",
    "plt.show()"
   ]
  },
  {
   "cell_type": "code",
   "execution_count": null,
   "id": "31cd2a38",
   "metadata": {},
   "outputs": [],
   "source": []
  }
 ],
 "metadata": {
  "kernelspec": {
   "display_name": "Python 3 (ipykernel)",
   "language": "python",
   "name": "python3"
  },
  "language_info": {
   "codemirror_mode": {
    "name": "ipython",
    "version": 3
   },
   "file_extension": ".py",
   "mimetype": "text/x-python",
   "name": "python",
   "nbconvert_exporter": "python",
   "pygments_lexer": "ipython3",
   "version": "3.8.0"
  },
  "toc": {
   "base_numbering": 1,
   "nav_menu": {},
   "number_sections": true,
   "sideBar": true,
   "skip_h1_title": false,
   "title_cell": "Table of Contents",
   "title_sidebar": "Contents",
   "toc_cell": false,
   "toc_position": {
    "height": "calc(100% - 180px)",
    "left": "10px",
    "top": "150px",
    "width": "341.453px"
   },
   "toc_section_display": true,
   "toc_window_display": true
  }
 },
 "nbformat": 4,
 "nbformat_minor": 5
}
