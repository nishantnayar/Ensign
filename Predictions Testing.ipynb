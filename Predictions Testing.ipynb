{
 "cells": [
  {
   "cell_type": "markdown",
   "id": "602e39f5",
   "metadata": {},
   "source": [
    "# Basics"
   ]
  },
  {
   "cell_type": "code",
   "execution_count": 1,
   "id": "b0148b9e",
   "metadata": {},
   "outputs": [],
   "source": [
    "import pickle\n",
    "import pandas as pd\n",
    "import tensorflow as tf\n",
    "from tensorflow import keras\n",
    "from tensorflow.keras import layers, Sequential\n",
    "from tensorflow.keras.layers import LSTM, Dense, Dropout\n",
    "from tensorflow.keras.callbacks import EarlyStopping\n",
    "from tensorflow.keras.callbacks import ModelCheckpoint\n",
    "import joblib\n",
    "import math\n",
    "import numpy as np\n",
    "from keras.models import load_model\n",
    "import matplotlib.colors\n",
    "from matplotlib.colors import ListedColormap\n",
    "%matplotlib inline"
   ]
  },
  {
   "cell_type": "code",
   "execution_count": 2,
   "id": "89959145",
   "metadata": {},
   "outputs": [],
   "source": [
    "my_list=pickle.load(open('./data/real_time_data3.pkl','rb'))"
   ]
  },
  {
   "cell_type": "code",
   "execution_count": 3,
   "id": "88d0e5bc",
   "metadata": {},
   "outputs": [],
   "source": [
    "final_df = pd.DataFrame(columns=[\"symbol\", \"day\", \"HrMin\", \"Second\", \"timestamp\", \"price\"])\n",
    "for i in range(len(my_list)):\n",
    "    temp_df = my_list[i]\n",
    "    final_df = pd.concat([temp_df, final_df])\n",
    "\n",
    "final_df.drop_duplicates()\n",
    "final_df['price'] = final_df['price'].astype(float)"
   ]
  },
  {
   "cell_type": "markdown",
   "id": "f7f33463",
   "metadata": {},
   "source": [
    "# NVDA"
   ]
  },
  {
   "cell_type": "code",
   "execution_count": 4,
   "id": "194f7821",
   "metadata": {},
   "outputs": [],
   "source": [
    "NVDA = final_df[final_df['symbol']=='NVDA']\n",
    "NVDA = NVDA.drop_duplicates(subset=['day', 'HrMin'] , keep='first')\n",
    "NVDA= NVDA.reset_index(drop = True)\n",
    "NVDA = NVDA.set_index('DateTime')"
   ]
  },
  {
   "cell_type": "code",
   "execution_count": 5,
   "id": "50611b7f",
   "metadata": {},
   "outputs": [],
   "source": [
    "NVDA = NVDA[NVDA.index<='2023-10-17 06:59:10']"
   ]
  },
  {
   "cell_type": "code",
   "execution_count": 6,
   "id": "e102f659",
   "metadata": {},
   "outputs": [
    {
     "data": {
      "text/html": [
       "<div>\n",
       "<style scoped>\n",
       "    .dataframe tbody tr th:only-of-type {\n",
       "        vertical-align: middle;\n",
       "    }\n",
       "\n",
       "    .dataframe tbody tr th {\n",
       "        vertical-align: top;\n",
       "    }\n",
       "\n",
       "    .dataframe thead th {\n",
       "        text-align: right;\n",
       "    }\n",
       "</style>\n",
       "<table border=\"1\" class=\"dataframe\">\n",
       "  <thead>\n",
       "    <tr style=\"text-align: right;\">\n",
       "      <th></th>\n",
       "      <th>symbol</th>\n",
       "      <th>day</th>\n",
       "      <th>HrMin</th>\n",
       "      <th>Second</th>\n",
       "      <th>timestamp</th>\n",
       "      <th>price</th>\n",
       "    </tr>\n",
       "    <tr>\n",
       "      <th>DateTime</th>\n",
       "      <th></th>\n",
       "      <th></th>\n",
       "      <th></th>\n",
       "      <th></th>\n",
       "      <th></th>\n",
       "      <th></th>\n",
       "    </tr>\n",
       "  </thead>\n",
       "  <tbody>\n",
       "    <tr>\n",
       "      <th>2023-10-17 06:34:55</th>\n",
       "      <td>NVDA</td>\n",
       "      <td>10/17/23</td>\n",
       "      <td>06:34</td>\n",
       "      <td>55</td>\n",
       "      <td>063000</td>\n",
       "      <td>456.00</td>\n",
       "    </tr>\n",
       "    <tr>\n",
       "      <th>2023-10-17 06:35:09</th>\n",
       "      <td>NVDA</td>\n",
       "      <td>10/17/23</td>\n",
       "      <td>06:35</td>\n",
       "      <td>09</td>\n",
       "      <td>776000</td>\n",
       "      <td>455.97</td>\n",
       "    </tr>\n",
       "    <tr>\n",
       "      <th>2023-10-17 06:36:00</th>\n",
       "      <td>NVDA</td>\n",
       "      <td>10/17/23</td>\n",
       "      <td>06:36</td>\n",
       "      <td>00</td>\n",
       "      <td>043000</td>\n",
       "      <td>456.12</td>\n",
       "    </tr>\n",
       "    <tr>\n",
       "      <th>2023-10-17 06:37:01</th>\n",
       "      <td>NVDA</td>\n",
       "      <td>10/17/23</td>\n",
       "      <td>06:37</td>\n",
       "      <td>01</td>\n",
       "      <td>318000</td>\n",
       "      <td>456.23</td>\n",
       "    </tr>\n",
       "    <tr>\n",
       "      <th>2023-10-17 06:38:00</th>\n",
       "      <td>NVDA</td>\n",
       "      <td>10/17/23</td>\n",
       "      <td>06:38</td>\n",
       "      <td>00</td>\n",
       "      <td>934000</td>\n",
       "      <td>456.16</td>\n",
       "    </tr>\n",
       "    <tr>\n",
       "      <th>2023-10-17 06:39:00</th>\n",
       "      <td>NVDA</td>\n",
       "      <td>10/17/23</td>\n",
       "      <td>06:39</td>\n",
       "      <td>00</td>\n",
       "      <td>383000</td>\n",
       "      <td>456.40</td>\n",
       "    </tr>\n",
       "    <tr>\n",
       "      <th>2023-10-17 06:40:07</th>\n",
       "      <td>NVDA</td>\n",
       "      <td>10/17/23</td>\n",
       "      <td>06:40</td>\n",
       "      <td>07</td>\n",
       "      <td>214000</td>\n",
       "      <td>456.52</td>\n",
       "    </tr>\n",
       "    <tr>\n",
       "      <th>2023-10-17 06:41:01</th>\n",
       "      <td>NVDA</td>\n",
       "      <td>10/17/23</td>\n",
       "      <td>06:41</td>\n",
       "      <td>01</td>\n",
       "      <td>358000</td>\n",
       "      <td>456.50</td>\n",
       "    </tr>\n",
       "    <tr>\n",
       "      <th>2023-10-17 06:42:05</th>\n",
       "      <td>NVDA</td>\n",
       "      <td>10/17/23</td>\n",
       "      <td>06:42</td>\n",
       "      <td>05</td>\n",
       "      <td>216000</td>\n",
       "      <td>456.19</td>\n",
       "    </tr>\n",
       "    <tr>\n",
       "      <th>2023-10-17 06:43:00</th>\n",
       "      <td>NVDA</td>\n",
       "      <td>10/17/23</td>\n",
       "      <td>06:43</td>\n",
       "      <td>00</td>\n",
       "      <td>382000</td>\n",
       "      <td>456.22</td>\n",
       "    </tr>\n",
       "    <tr>\n",
       "      <th>2023-10-17 06:44:18</th>\n",
       "      <td>NVDA</td>\n",
       "      <td>10/17/23</td>\n",
       "      <td>06:44</td>\n",
       "      <td>18</td>\n",
       "      <td>548000</td>\n",
       "      <td>456.32</td>\n",
       "    </tr>\n",
       "    <tr>\n",
       "      <th>2023-10-17 06:45:00</th>\n",
       "      <td>NVDA</td>\n",
       "      <td>10/17/23</td>\n",
       "      <td>06:45</td>\n",
       "      <td>00</td>\n",
       "      <td>690000</td>\n",
       "      <td>456.53</td>\n",
       "    </tr>\n",
       "    <tr>\n",
       "      <th>2023-10-17 06:46:01</th>\n",
       "      <td>NVDA</td>\n",
       "      <td>10/17/23</td>\n",
       "      <td>06:46</td>\n",
       "      <td>01</td>\n",
       "      <td>092000</td>\n",
       "      <td>456.70</td>\n",
       "    </tr>\n",
       "    <tr>\n",
       "      <th>2023-10-17 06:47:01</th>\n",
       "      <td>NVDA</td>\n",
       "      <td>10/17/23</td>\n",
       "      <td>06:47</td>\n",
       "      <td>01</td>\n",
       "      <td>245000</td>\n",
       "      <td>456.80</td>\n",
       "    </tr>\n",
       "    <tr>\n",
       "      <th>2023-10-17 06:48:00</th>\n",
       "      <td>NVDA</td>\n",
       "      <td>10/17/23</td>\n",
       "      <td>06:48</td>\n",
       "      <td>00</td>\n",
       "      <td>357000</td>\n",
       "      <td>456.79</td>\n",
       "    </tr>\n",
       "    <tr>\n",
       "      <th>2023-10-17 06:49:06</th>\n",
       "      <td>NVDA</td>\n",
       "      <td>10/17/23</td>\n",
       "      <td>06:49</td>\n",
       "      <td>06</td>\n",
       "      <td>489000</td>\n",
       "      <td>456.73</td>\n",
       "    </tr>\n",
       "    <tr>\n",
       "      <th>2023-10-17 06:50:01</th>\n",
       "      <td>NVDA</td>\n",
       "      <td>10/17/23</td>\n",
       "      <td>06:50</td>\n",
       "      <td>01</td>\n",
       "      <td>974000</td>\n",
       "      <td>456.67</td>\n",
       "    </tr>\n",
       "    <tr>\n",
       "      <th>2023-10-17 06:51:01</th>\n",
       "      <td>NVDA</td>\n",
       "      <td>10/17/23</td>\n",
       "      <td>06:51</td>\n",
       "      <td>01</td>\n",
       "      <td>369000</td>\n",
       "      <td>456.46</td>\n",
       "    </tr>\n",
       "    <tr>\n",
       "      <th>2023-10-17 06:52:05</th>\n",
       "      <td>NVDA</td>\n",
       "      <td>10/17/23</td>\n",
       "      <td>06:52</td>\n",
       "      <td>05</td>\n",
       "      <td>241000</td>\n",
       "      <td>456.40</td>\n",
       "    </tr>\n",
       "    <tr>\n",
       "      <th>2023-10-17 06:53:14</th>\n",
       "      <td>NVDA</td>\n",
       "      <td>10/17/23</td>\n",
       "      <td>06:53</td>\n",
       "      <td>14</td>\n",
       "      <td>137000</td>\n",
       "      <td>456.42</td>\n",
       "    </tr>\n",
       "    <tr>\n",
       "      <th>2023-10-17 06:54:13</th>\n",
       "      <td>NVDA</td>\n",
       "      <td>10/17/23</td>\n",
       "      <td>06:54</td>\n",
       "      <td>13</td>\n",
       "      <td>067000</td>\n",
       "      <td>456.45</td>\n",
       "    </tr>\n",
       "    <tr>\n",
       "      <th>2023-10-17 06:55:08</th>\n",
       "      <td>NVDA</td>\n",
       "      <td>10/17/23</td>\n",
       "      <td>06:55</td>\n",
       "      <td>08</td>\n",
       "      <td>704000</td>\n",
       "      <td>456.69</td>\n",
       "    </tr>\n",
       "    <tr>\n",
       "      <th>2023-10-17 06:56:01</th>\n",
       "      <td>NVDA</td>\n",
       "      <td>10/17/23</td>\n",
       "      <td>06:56</td>\n",
       "      <td>01</td>\n",
       "      <td>398000</td>\n",
       "      <td>456.48</td>\n",
       "    </tr>\n",
       "    <tr>\n",
       "      <th>2023-10-17 06:57:00</th>\n",
       "      <td>NVDA</td>\n",
       "      <td>10/17/23</td>\n",
       "      <td>06:57</td>\n",
       "      <td>00</td>\n",
       "      <td>858000</td>\n",
       "      <td>456.70</td>\n",
       "    </tr>\n",
       "    <tr>\n",
       "      <th>2023-10-17 06:58:03</th>\n",
       "      <td>NVDA</td>\n",
       "      <td>10/17/23</td>\n",
       "      <td>06:58</td>\n",
       "      <td>03</td>\n",
       "      <td>708000</td>\n",
       "      <td>456.86</td>\n",
       "    </tr>\n",
       "    <tr>\n",
       "      <th>2023-10-17 06:59:01</th>\n",
       "      <td>NVDA</td>\n",
       "      <td>10/17/23</td>\n",
       "      <td>06:59</td>\n",
       "      <td>01</td>\n",
       "      <td>166000</td>\n",
       "      <td>457.17</td>\n",
       "    </tr>\n",
       "  </tbody>\n",
       "</table>\n",
       "</div>"
      ],
      "text/plain": [
       "                    symbol       day  HrMin Second timestamp   price\n",
       "DateTime                                                            \n",
       "2023-10-17 06:34:55   NVDA  10/17/23  06:34     55    063000  456.00\n",
       "2023-10-17 06:35:09   NVDA  10/17/23  06:35     09    776000  455.97\n",
       "2023-10-17 06:36:00   NVDA  10/17/23  06:36     00    043000  456.12\n",
       "2023-10-17 06:37:01   NVDA  10/17/23  06:37     01    318000  456.23\n",
       "2023-10-17 06:38:00   NVDA  10/17/23  06:38     00    934000  456.16\n",
       "2023-10-17 06:39:00   NVDA  10/17/23  06:39     00    383000  456.40\n",
       "2023-10-17 06:40:07   NVDA  10/17/23  06:40     07    214000  456.52\n",
       "2023-10-17 06:41:01   NVDA  10/17/23  06:41     01    358000  456.50\n",
       "2023-10-17 06:42:05   NVDA  10/17/23  06:42     05    216000  456.19\n",
       "2023-10-17 06:43:00   NVDA  10/17/23  06:43     00    382000  456.22\n",
       "2023-10-17 06:44:18   NVDA  10/17/23  06:44     18    548000  456.32\n",
       "2023-10-17 06:45:00   NVDA  10/17/23  06:45     00    690000  456.53\n",
       "2023-10-17 06:46:01   NVDA  10/17/23  06:46     01    092000  456.70\n",
       "2023-10-17 06:47:01   NVDA  10/17/23  06:47     01    245000  456.80\n",
       "2023-10-17 06:48:00   NVDA  10/17/23  06:48     00    357000  456.79\n",
       "2023-10-17 06:49:06   NVDA  10/17/23  06:49     06    489000  456.73\n",
       "2023-10-17 06:50:01   NVDA  10/17/23  06:50     01    974000  456.67\n",
       "2023-10-17 06:51:01   NVDA  10/17/23  06:51     01    369000  456.46\n",
       "2023-10-17 06:52:05   NVDA  10/17/23  06:52     05    241000  456.40\n",
       "2023-10-17 06:53:14   NVDA  10/17/23  06:53     14    137000  456.42\n",
       "2023-10-17 06:54:13   NVDA  10/17/23  06:54     13    067000  456.45\n",
       "2023-10-17 06:55:08   NVDA  10/17/23  06:55     08    704000  456.69\n",
       "2023-10-17 06:56:01   NVDA  10/17/23  06:56     01    398000  456.48\n",
       "2023-10-17 06:57:00   NVDA  10/17/23  06:57     00    858000  456.70\n",
       "2023-10-17 06:58:03   NVDA  10/17/23  06:58     03    708000  456.86\n",
       "2023-10-17 06:59:01   NVDA  10/17/23  06:59     01    166000  457.17"
      ]
     },
     "execution_count": 6,
     "metadata": {},
     "output_type": "execute_result"
    }
   ],
   "source": [
    "NVDA"
   ]
  },
  {
   "cell_type": "code",
   "execution_count": 7,
   "id": "84cc7ff0",
   "metadata": {},
   "outputs": [],
   "source": [
    "file_path = r'.\\models\\nvda_lstm_model.h5'\n",
    "\n",
    "# Load the MinMaxScaler from the file\n",
    "scaler = joblib.load(r'.\\models\\nvda_minmax_scaler.pkl')\n",
    "\n",
    "# Load the pre-trained model\n",
    "model = load_model(r'.\\models\\nvda_lstm_model.h5')\n",
    "\n",
    "model.compile(optimizer='adam', loss='mean_squared_error')"
   ]
  },
  {
   "cell_type": "code",
   "execution_count": 8,
   "id": "6027c0ea",
   "metadata": {},
   "outputs": [],
   "source": [
    "open_prices = NVDA['price']\n",
    "values = open_prices.values\n",
    "training_data_len = math.ceil(len(values)* 0.8)\n",
    "\n",
    "scaled_data = scaler.fit_transform(values.reshape(-1,1))\n",
    "train_data = scaled_data[0: training_data_len, :]\n",
    "\n",
    "x_train = []\n",
    "y_train = []\n",
    "\n",
    "for i in range(6, len(train_data)):\n",
    "    x_train.append(train_data[i-6:i, 0])\n",
    "    y_train.append(train_data[i, 0])\n",
    "    \n",
    "x_train, y_train = np.array(x_train), np.array(y_train)\n",
    "x_train = np.reshape(x_train, (x_train.shape[0], x_train.shape[1], 1))"
   ]
  },
  {
   "cell_type": "code",
   "execution_count": 9,
   "id": "36b864de",
   "metadata": {},
   "outputs": [],
   "source": [
    "test_data = scaled_data[training_data_len-6: , : ]\n",
    "x_test = []\n",
    "y_test = values[training_data_len:]\n",
    "\n",
    "for i in range(6, len(test_data)):\n",
    "    x_test.append(test_data[i-6:i, 0])\n",
    "\n",
    "x_test = np.array(x_test)\n",
    "x_test = np.reshape(x_test, (x_test.shape[0], x_test.shape[1], 1))"
   ]
  },
  {
   "cell_type": "code",
   "execution_count": 10,
   "id": "04bd6f87",
   "metadata": {},
   "outputs": [
    {
     "name": "stdout",
     "output_type": "stream",
     "text": [
      "Epoch 1/10\n",
      "1/1 [==============================] - ETA: 0s - loss: 0.0477\n",
      "Epoch 1: loss improved from inf to 0.04765, saving model to .\\models\\nvda_lstm_model.h5\n",
      "1/1 [==============================] - 3s 3s/step - loss: 0.0477\n",
      "Epoch 2/10\n",
      "1/1 [==============================] - ETA: 0s - loss: 0.0425\n",
      "Epoch 2: loss improved from 0.04765 to 0.04248, saving model to .\\models\\nvda_lstm_model.h5\n",
      "1/1 [==============================] - 0s 29ms/step - loss: 0.0425\n",
      "Epoch 3/10\n",
      "1/1 [==============================] - ETA: 0s - loss: 0.0386\n",
      "Epoch 3: loss improved from 0.04248 to 0.03863, saving model to .\\models\\nvda_lstm_model.h5\n",
      "1/1 [==============================] - 0s 16ms/step - loss: 0.0386\n",
      "Epoch 4/10\n",
      "1/1 [==============================] - ETA: 0s - loss: 0.0355\n",
      "Epoch 4: loss improved from 0.03863 to 0.03552, saving model to .\\models\\nvda_lstm_model.h5\n",
      "1/1 [==============================] - 0s 31ms/step - loss: 0.0355\n",
      "Epoch 5/10\n",
      "1/1 [==============================] - ETA: 0s - loss: 0.0330\n",
      "Epoch 5: loss improved from 0.03552 to 0.03299, saving model to .\\models\\nvda_lstm_model.h5\n",
      "1/1 [==============================] - 0s 32ms/step - loss: 0.0330\n",
      "Epoch 6/10\n",
      "1/1 [==============================] - ETA: 0s - loss: 0.0309\n",
      "Epoch 6: loss improved from 0.03299 to 0.03091, saving model to .\\models\\nvda_lstm_model.h5\n",
      "1/1 [==============================] - 0s 17ms/step - loss: 0.0309\n",
      "Epoch 7/10\n",
      "1/1 [==============================] - ETA: 0s - loss: 0.0291\n",
      "Epoch 7: loss improved from 0.03091 to 0.02910, saving model to .\\models\\nvda_lstm_model.h5\n",
      "1/1 [==============================] - 0s 35ms/step - loss: 0.0291\n",
      "Epoch 8/10\n"
     ]
    },
    {
     "name": "stderr",
     "output_type": "stream",
     "text": [
      "C:\\Users\\nisha\\anaconda3\\envs\\test\\lib\\site-packages\\keras\\src\\engine\\training.py:3000: UserWarning: You are saving your model as an HDF5 file via `model.save()`. This file format is considered legacy. We recommend using instead the native Keras format, e.g. `model.save('my_model.keras')`.\n",
      "  saving_api.save_model(\n"
     ]
    },
    {
     "name": "stdout",
     "output_type": "stream",
     "text": [
      "1/1 [==============================] - ETA: 0s - loss: 0.0277\n",
      "Epoch 8: loss improved from 0.02910 to 0.02767, saving model to .\\models\\nvda_lstm_model.h5\n",
      "1/1 [==============================] - 0s 22ms/step - loss: 0.0277\n",
      "Epoch 9/10\n",
      "1/1 [==============================] - ETA: 0s - loss: 0.0264\n",
      "Epoch 9: loss improved from 0.02767 to 0.02644, saving model to .\\models\\nvda_lstm_model.h5\n",
      "1/1 [==============================] - 0s 16ms/step - loss: 0.0264\n",
      "Epoch 10/10\n",
      "1/1 [==============================] - ETA: 0s - loss: 0.0254\n",
      "Epoch 10: loss improved from 0.02644 to 0.02538, saving model to .\\models\\nvda_lstm_model.h5\n",
      "1/1 [==============================] - 0s 32ms/step - loss: 0.0254\n"
     ]
    },
    {
     "data": {
      "text/plain": [
       "<keras.src.callbacks.History at 0x148c457f8e0>"
      ]
     },
     "execution_count": 10,
     "metadata": {},
     "output_type": "execute_result"
    }
   ],
   "source": [
    "es = EarlyStopping(monitor='loss', mode='min', verbose=1, patience=5)\n",
    "mc = ModelCheckpoint(file_path, monitor='loss', mode='min', verbose=1, save_best_only=True)\n",
    "model.fit(x_train, y_train,  epochs=10, batch_size=64, callbacks=[es, mc])"
   ]
  },
  {
   "cell_type": "code",
   "execution_count": 11,
   "id": "1f3a8d67",
   "metadata": {},
   "outputs": [
    {
     "name": "stdout",
     "output_type": "stream",
     "text": [
      "1/1 [==============================] - 1s 546ms/step\n"
     ]
    },
    {
     "data": {
      "text/plain": [
       "0.25364501953125684"
      ]
     },
     "execution_count": 11,
     "metadata": {},
     "output_type": "execute_result"
    }
   ],
   "source": [
    "predictions = model.predict(x_test)\n",
    "predictions = scaler.inverse_transform(predictions)\n",
    "rmse = np.sqrt(np.mean(predictions - y_test)**2)\n",
    "rmse"
   ]
  },
  {
   "cell_type": "markdown",
   "id": "0154543d",
   "metadata": {},
   "source": [
    "## Future Predictions"
   ]
  },
  {
   "cell_type": "code",
   "execution_count": 12,
   "id": "2df784f8",
   "metadata": {},
   "outputs": [],
   "source": [
    "# Create a new array to store your predictions.\n",
    "future_predictions = []\n",
    "\n",
    "# The number of future time steps you want to predict (in this case, 5 steps).\n",
    "num_steps_to_predict = 5\n",
    "\n",
    "# Start with the last available data point.\n",
    "last_data_point = x_train[-1]"
   ]
  },
  {
   "cell_type": "code",
   "execution_count": 13,
   "id": "c1a575bb",
   "metadata": {},
   "outputs": [
    {
     "name": "stdout",
     "output_type": "stream",
     "text": [
      "1/1 [==============================] - 0s 23ms/step\n",
      "1/1 [==============================] - 1s 520ms/step\n",
      "1/1 [==============================] - 0s 15ms/step\n",
      "1/1 [==============================] - 0s 16ms/step\n",
      "1/1 [==============================] - 0s 16ms/step\n",
      "[0.46387893 0.47154993 0.4773674  0.48139209 0.48382381]\n"
     ]
    }
   ],
   "source": [
    "for _ in range(num_steps_to_predict):\n",
    "    # Use the model to predict the next time step.\n",
    "    next_prediction = model.predict(np.array([last_data_point]))\n",
    "    \n",
    "    # Store the prediction in your results array.\n",
    "    future_predictions = np.concatenate((future_predictions, next_prediction[0]))\n",
    "    \n",
    "    # Update the last_data_point for the next iteration.\n",
    "    last_data_point = np.concatenate((last_data_point, next_prediction))\n",
    "    np.delete(last_data_point, 0)\n",
    "\n",
    "print(future_predictions)"
   ]
  },
  {
   "cell_type": "code",
   "execution_count": 14,
   "id": "d9725983",
   "metadata": {},
   "outputs": [],
   "source": [
    "nvda_predicted = scaler.inverse_transform(future_predictions.reshape(-1,1))"
   ]
  },
  {
   "cell_type": "code",
   "execution_count": 15,
   "id": "db57b078",
   "metadata": {},
   "outputs": [],
   "source": [
    "nvda_predictions = pd.DataFrame(nvda_predicted, index= \n",
    "                                        [\n",
    "                                            '2023-10-17 07:00:00',\n",
    "                                        '2023-10-17 07:01:00',\n",
    "                                        '2023-10-17 07:02:00', \n",
    "                                        '2023-10-17 07:03:00', \n",
    "                                        '2023-10-17 07:04:00' \n",
    "                                         ], columns=[\"price\"])"
   ]
  },
  {
   "cell_type": "markdown",
   "id": "910bae4d",
   "metadata": {},
   "source": [
    "# META"
   ]
  },
  {
   "cell_type": "code",
   "execution_count": 16,
   "id": "d61896cc",
   "metadata": {},
   "outputs": [],
   "source": [
    "META = final_df[final_df['symbol']=='META']\n",
    "META =META.drop_duplicates(subset=['day', 'HrMin'] , keep='first')\n",
    "META=META.reset_index(drop = True)\n",
    "META= META.set_index('DateTime')"
   ]
  },
  {
   "cell_type": "code",
   "execution_count": 17,
   "id": "cf3b2cab",
   "metadata": {},
   "outputs": [],
   "source": [
    "META = META[META.index<='2023-10-17 06:59:10']"
   ]
  },
  {
   "cell_type": "code",
   "execution_count": 18,
   "id": "bc665f2b",
   "metadata": {},
   "outputs": [],
   "source": [
    "file_path = '.\\models\\meta_lstm_model.h5'\n",
    "\n",
    "# Load the MinMaxScaler from the file\n",
    "scaler = joblib.load('.\\models\\meta_minmax_scaler.pkl')\n",
    "\n",
    "# Load the pre-trained model\n",
    "model = load_model('.\\models\\meta_lstm_model.h5')\n",
    "\n",
    "model.compile(optimizer='adam', loss='mean_squared_error')"
   ]
  },
  {
   "cell_type": "code",
   "execution_count": 19,
   "id": "cec93aad",
   "metadata": {},
   "outputs": [],
   "source": [
    "open_prices = META['price']\n",
    "values = open_prices.values\n",
    "training_data_len = math.ceil(len(values)* 0.8)\n",
    "\n",
    "scaled_data = scaler.fit_transform(values.reshape(-1,1))\n",
    "train_data = scaled_data[0: training_data_len, :]\n",
    "\n",
    "x_train = []\n",
    "y_train = []\n",
    "\n",
    "for i in range(6, len(train_data)):\n",
    "    x_train.append(train_data[i-6:i, 0])\n",
    "    y_train.append(train_data[i, 0])\n",
    "    \n",
    "x_train, y_train = np.array(x_train), np.array(y_train)\n",
    "x_train = np.reshape(x_train, (x_train.shape[0], x_train.shape[1], 1))"
   ]
  },
  {
   "cell_type": "code",
   "execution_count": 20,
   "id": "4b2f6e9c",
   "metadata": {},
   "outputs": [],
   "source": [
    "test_data = scaled_data[training_data_len-6: , : ]\n",
    "x_test = []\n",
    "y_test = values[training_data_len:]\n",
    "\n",
    "for i in range(6, len(test_data)):\n",
    "    x_test.append(test_data[i-6:i, 0])\n",
    "\n",
    "x_test = np.array(x_test)\n",
    "x_test = np.reshape(x_test, (x_test.shape[0], x_test.shape[1], 1))"
   ]
  },
  {
   "cell_type": "code",
   "execution_count": 21,
   "id": "bb48958e",
   "metadata": {},
   "outputs": [
    {
     "name": "stdout",
     "output_type": "stream",
     "text": [
      "Epoch 1/10\n",
      "1/1 [==============================] - ETA: 0s - loss: 0.0255\n",
      "Epoch 1: loss improved from inf to 0.02551, saving model to .\\models\\meta_lstm_model.h5\n",
      "1/1 [==============================] - 3s 3s/step - loss: 0.0255\n",
      "Epoch 2/10\n",
      "1/1 [==============================] - ETA: 0s - loss: 0.0195\n",
      "Epoch 2: loss improved from 0.02551 to 0.01954, saving model to .\\models\\meta_lstm_model.h5\n",
      "1/1 [==============================] - 0s 31ms/step - loss: 0.0195\n",
      "Epoch 3/10\n",
      "1/1 [==============================] - ETA: 0s - loss: 0.0182\n",
      "Epoch 3: loss improved from 0.01954 to 0.01823, saving model to .\\models\\meta_lstm_model.h5\n",
      "1/1 [==============================] - 0s 33ms/step - loss: 0.0182\n",
      "Epoch 4/10\n",
      "1/1 [==============================] - ETA: 0s - loss: 0.0178\n",
      "Epoch 4: loss improved from 0.01823 to 0.01784, saving model to .\\models\\meta_lstm_model.h5\n",
      "1/1 [==============================] - 0s 15ms/step - loss: 0.0178\n",
      "Epoch 5/10\n",
      "1/1 [==============================] - ETA: 0s - loss: 0.0169\n",
      "Epoch 5: loss improved from 0.01784 to 0.01688, saving model to .\\models\\meta_lstm_model.h5\n",
      "1/1 [==============================] - 0s 31ms/step - loss: 0.0169\n",
      "Epoch 6/10\n",
      "1/1 [==============================] - ETA: 0s - loss: 0.0155\n",
      "Epoch 6: loss improved from 0.01688 to 0.01552, saving model to .\\models\\meta_lstm_model.h5\n",
      "1/1 [==============================] - 0s 16ms/step - loss: 0.0155\n",
      "Epoch 7/10\n",
      "1/1 [==============================] - ETA: 0s - loss: 0.0142\n",
      "Epoch 7: loss improved from 0.01552 to 0.01424, saving model to .\\models\\meta_lstm_model.h5\n",
      "1/1 [==============================] - 0s 23ms/step - loss: 0.0142\n"
     ]
    },
    {
     "name": "stderr",
     "output_type": "stream",
     "text": [
      "C:\\Users\\nisha\\anaconda3\\envs\\test\\lib\\site-packages\\keras\\src\\engine\\training.py:3000: UserWarning: You are saving your model as an HDF5 file via `model.save()`. This file format is considered legacy. We recommend using instead the native Keras format, e.g. `model.save('my_model.keras')`.\n",
      "  saving_api.save_model(\n"
     ]
    },
    {
     "name": "stdout",
     "output_type": "stream",
     "text": [
      "Epoch 8/10\n",
      "1/1 [==============================] - ETA: 0s - loss: 0.0133\n",
      "Epoch 8: loss improved from 0.01424 to 0.01334, saving model to .\\models\\meta_lstm_model.h5\n",
      "1/1 [==============================] - 0s 25ms/step - loss: 0.0133\n",
      "Epoch 9/10\n",
      "1/1 [==============================] - ETA: 0s - loss: 0.0129\n",
      "Epoch 9: loss improved from 0.01334 to 0.01288, saving model to .\\models\\meta_lstm_model.h5\n",
      "1/1 [==============================] - 0s 15ms/step - loss: 0.0129\n",
      "Epoch 10/10\n",
      "1/1 [==============================] - ETA: 0s - loss: 0.0126\n",
      "Epoch 10: loss improved from 0.01288 to 0.01263, saving model to .\\models\\meta_lstm_model.h5\n",
      "1/1 [==============================] - 0s 16ms/step - loss: 0.0126\n"
     ]
    },
    {
     "data": {
      "text/plain": [
       "<keras.src.callbacks.History at 0x148c518c880>"
      ]
     },
     "execution_count": 21,
     "metadata": {},
     "output_type": "execute_result"
    }
   ],
   "source": [
    "es = EarlyStopping(monitor='loss', mode='min', verbose=1, patience=5)\n",
    "mc = ModelCheckpoint(file_path, monitor='loss', mode='min', verbose=1, save_best_only=True)\n",
    "model.fit(x_train, y_train,  epochs=10, batch_size=64, callbacks=[es, mc])"
   ]
  },
  {
   "cell_type": "code",
   "execution_count": 22,
   "id": "b7e2fd58",
   "metadata": {},
   "outputs": [
    {
     "name": "stdout",
     "output_type": "stream",
     "text": [
      "1/1 [==============================] - 1s 512ms/step\n"
     ]
    },
    {
     "data": {
      "text/plain": [
       "0.027257080078129547"
      ]
     },
     "execution_count": 22,
     "metadata": {},
     "output_type": "execute_result"
    }
   ],
   "source": [
    "predictions = model.predict(x_test)\n",
    "predictions = scaler.inverse_transform(predictions)\n",
    "rmse = np.sqrt(np.mean(predictions - y_test)**2)\n",
    "rmse"
   ]
  },
  {
   "cell_type": "markdown",
   "id": "ea6bbe75",
   "metadata": {},
   "source": [
    "## Future Predictions"
   ]
  },
  {
   "cell_type": "code",
   "execution_count": 23,
   "id": "8557ca5a",
   "metadata": {},
   "outputs": [],
   "source": [
    "# Create a new array to store your predictions.\n",
    "future_predictions = []\n",
    "\n",
    "# The number of future time steps you want to predict (in this case, 5 steps).\n",
    "num_steps_to_predict = 5\n",
    "\n",
    "# Start with the last available data point.\n",
    "last_data_point = x_train[-1]"
   ]
  },
  {
   "cell_type": "code",
   "execution_count": 24,
   "id": "77379fbb",
   "metadata": {},
   "outputs": [
    {
     "name": "stdout",
     "output_type": "stream",
     "text": [
      "1/1 [==============================] - 0s 32ms/step\n",
      "1/1 [==============================] - 1s 504ms/step\n",
      "1/1 [==============================] - 0s 17ms/step\n",
      "1/1 [==============================] - 0s 15ms/step\n",
      "1/1 [==============================] - 0s 16ms/step\n",
      "[0.33636588 0.32357308 0.31668985 0.31493947 0.31637502]\n"
     ]
    }
   ],
   "source": [
    "for _ in range(num_steps_to_predict):\n",
    "    # Use the model to predict the next time step.\n",
    "    next_prediction = model.predict(np.array([last_data_point]))\n",
    "    \n",
    "    # Store the prediction in your results array.\n",
    "    future_predictions = np.concatenate((future_predictions, next_prediction[0]))\n",
    "    \n",
    "    # Update the last_data_point for the next iteration.\n",
    "    last_data_point = np.concatenate((last_data_point, next_prediction))\n",
    "    np.delete(last_data_point, 0)\n",
    "\n",
    "print(future_predictions)"
   ]
  },
  {
   "cell_type": "code",
   "execution_count": 25,
   "id": "32c7ab73",
   "metadata": {},
   "outputs": [],
   "source": [
    "meta_predicted = scaler.inverse_transform(future_predictions.reshape(-1,1))"
   ]
  },
  {
   "cell_type": "code",
   "execution_count": 26,
   "id": "2ff37d6c",
   "metadata": {},
   "outputs": [],
   "source": [
    "meta_predictions = pd.DataFrame(meta_predicted, index= \n",
    "                                        ['2023-10-17 07:00:00',\n",
    "                                        '2023-10-17 07:01:00',\n",
    "                                        '2023-10-17 07:02:00', \n",
    "                                        '2023-10-17 07:03:00', \n",
    "                                        '2023-10-17 07:04:00' \n",
    "                                         ], columns=[\"price\"])"
   ]
  },
  {
   "cell_type": "markdown",
   "id": "c997bad1",
   "metadata": {},
   "source": [
    "# Visual"
   ]
  },
  {
   "cell_type": "code",
   "execution_count": 27,
   "id": "fc5bbc57",
   "metadata": {},
   "outputs": [],
   "source": [
    "import plotly.graph_objects as go\n",
    "from plotly.subplots import make_subplots"
   ]
  },
  {
   "cell_type": "code",
   "execution_count": 30,
   "id": "75025c44",
   "metadata": {},
   "outputs": [
    {
     "data": {
      "application/vnd.plotly.v1+json": {
       "config": {
        "plotlyServerURL": "https://plot.ly"
       },
       "data": [
        {
         "line": {
          "color": "blue",
          "width": 2
         },
         "name": "Meta - Actual",
         "opacity": 0.7,
         "type": "scatter",
         "x": [
          "2023-10-17 06:35:03",
          "2023-10-17 06:36:32",
          "2023-10-17 06:37:18",
          "2023-10-17 06:38:19",
          "2023-10-17 06:39:08",
          "2023-10-17 06:40:03",
          "2023-10-17 06:41:26",
          "2023-10-17 06:42:00",
          "2023-10-17 06:43:03",
          "2023-10-17 06:44:08",
          "2023-10-17 06:45:25",
          "2023-10-17 06:46:00",
          "2023-10-17 06:47:04",
          "2023-10-17 06:48:15",
          "2023-10-17 06:49:27",
          "2023-10-17 06:50:12",
          "2023-10-17 06:51:16",
          "2023-10-17 06:52:50",
          "2023-10-17 06:53:00",
          "2023-10-17 06:54:11",
          "2023-10-17 06:55:52",
          "2023-10-17 06:56:13",
          "2023-10-17 06:57:05",
          "2023-10-17 06:58:14",
          "2023-10-17 06:59:08"
         ],
         "y": [
          320.62,
          320.64,
          320.63,
          320.64,
          320.64,
          320.45,
          320.23,
          320.18,
          320,
          319.92,
          320.06,
          320.1,
          320.12,
          320.18,
          320.15,
          320.2,
          320,
          320.17,
          320.18,
          320.1,
          320.16,
          320.11,
          320.2,
          320.19,
          320.19
         ]
        },
        {
         "line": {
          "color": "red",
          "width": 2
         },
         "name": "Meta - prediction",
         "opacity": 0.7,
         "type": "scatter",
         "x": [
          "2023-10-17 07:00:00",
          "2023-10-17 07:01:00",
          "2023-10-17 07:02:00",
          "2023-10-17 07:03:00",
          "2023-10-17 07:04:00"
         ],
         "y": [
          320.16218343257907,
          320.15297261953356,
          320.1480166912079,
          320.14675641775136,
          320.1477900123596
         ]
        }
       ],
       "layout": {
        "template": {
         "data": {
          "bar": [
           {
            "error_x": {
             "color": "#2a3f5f"
            },
            "error_y": {
             "color": "#2a3f5f"
            },
            "marker": {
             "line": {
              "color": "#E5ECF6",
              "width": 0.5
             },
             "pattern": {
              "fillmode": "overlay",
              "size": 10,
              "solidity": 0.2
             }
            },
            "type": "bar"
           }
          ],
          "barpolar": [
           {
            "marker": {
             "line": {
              "color": "#E5ECF6",
              "width": 0.5
             },
             "pattern": {
              "fillmode": "overlay",
              "size": 10,
              "solidity": 0.2
             }
            },
            "type": "barpolar"
           }
          ],
          "carpet": [
           {
            "aaxis": {
             "endlinecolor": "#2a3f5f",
             "gridcolor": "white",
             "linecolor": "white",
             "minorgridcolor": "white",
             "startlinecolor": "#2a3f5f"
            },
            "baxis": {
             "endlinecolor": "#2a3f5f",
             "gridcolor": "white",
             "linecolor": "white",
             "minorgridcolor": "white",
             "startlinecolor": "#2a3f5f"
            },
            "type": "carpet"
           }
          ],
          "choropleth": [
           {
            "colorbar": {
             "outlinewidth": 0,
             "ticks": ""
            },
            "type": "choropleth"
           }
          ],
          "contour": [
           {
            "colorbar": {
             "outlinewidth": 0,
             "ticks": ""
            },
            "colorscale": [
             [
              0,
              "#0d0887"
             ],
             [
              0.1111111111111111,
              "#46039f"
             ],
             [
              0.2222222222222222,
              "#7201a8"
             ],
             [
              0.3333333333333333,
              "#9c179e"
             ],
             [
              0.4444444444444444,
              "#bd3786"
             ],
             [
              0.5555555555555556,
              "#d8576b"
             ],
             [
              0.6666666666666666,
              "#ed7953"
             ],
             [
              0.7777777777777778,
              "#fb9f3a"
             ],
             [
              0.8888888888888888,
              "#fdca26"
             ],
             [
              1,
              "#f0f921"
             ]
            ],
            "type": "contour"
           }
          ],
          "contourcarpet": [
           {
            "colorbar": {
             "outlinewidth": 0,
             "ticks": ""
            },
            "type": "contourcarpet"
           }
          ],
          "heatmap": [
           {
            "colorbar": {
             "outlinewidth": 0,
             "ticks": ""
            },
            "colorscale": [
             [
              0,
              "#0d0887"
             ],
             [
              0.1111111111111111,
              "#46039f"
             ],
             [
              0.2222222222222222,
              "#7201a8"
             ],
             [
              0.3333333333333333,
              "#9c179e"
             ],
             [
              0.4444444444444444,
              "#bd3786"
             ],
             [
              0.5555555555555556,
              "#d8576b"
             ],
             [
              0.6666666666666666,
              "#ed7953"
             ],
             [
              0.7777777777777778,
              "#fb9f3a"
             ],
             [
              0.8888888888888888,
              "#fdca26"
             ],
             [
              1,
              "#f0f921"
             ]
            ],
            "type": "heatmap"
           }
          ],
          "heatmapgl": [
           {
            "colorbar": {
             "outlinewidth": 0,
             "ticks": ""
            },
            "colorscale": [
             [
              0,
              "#0d0887"
             ],
             [
              0.1111111111111111,
              "#46039f"
             ],
             [
              0.2222222222222222,
              "#7201a8"
             ],
             [
              0.3333333333333333,
              "#9c179e"
             ],
             [
              0.4444444444444444,
              "#bd3786"
             ],
             [
              0.5555555555555556,
              "#d8576b"
             ],
             [
              0.6666666666666666,
              "#ed7953"
             ],
             [
              0.7777777777777778,
              "#fb9f3a"
             ],
             [
              0.8888888888888888,
              "#fdca26"
             ],
             [
              1,
              "#f0f921"
             ]
            ],
            "type": "heatmapgl"
           }
          ],
          "histogram": [
           {
            "marker": {
             "pattern": {
              "fillmode": "overlay",
              "size": 10,
              "solidity": 0.2
             }
            },
            "type": "histogram"
           }
          ],
          "histogram2d": [
           {
            "colorbar": {
             "outlinewidth": 0,
             "ticks": ""
            },
            "colorscale": [
             [
              0,
              "#0d0887"
             ],
             [
              0.1111111111111111,
              "#46039f"
             ],
             [
              0.2222222222222222,
              "#7201a8"
             ],
             [
              0.3333333333333333,
              "#9c179e"
             ],
             [
              0.4444444444444444,
              "#bd3786"
             ],
             [
              0.5555555555555556,
              "#d8576b"
             ],
             [
              0.6666666666666666,
              "#ed7953"
             ],
             [
              0.7777777777777778,
              "#fb9f3a"
             ],
             [
              0.8888888888888888,
              "#fdca26"
             ],
             [
              1,
              "#f0f921"
             ]
            ],
            "type": "histogram2d"
           }
          ],
          "histogram2dcontour": [
           {
            "colorbar": {
             "outlinewidth": 0,
             "ticks": ""
            },
            "colorscale": [
             [
              0,
              "#0d0887"
             ],
             [
              0.1111111111111111,
              "#46039f"
             ],
             [
              0.2222222222222222,
              "#7201a8"
             ],
             [
              0.3333333333333333,
              "#9c179e"
             ],
             [
              0.4444444444444444,
              "#bd3786"
             ],
             [
              0.5555555555555556,
              "#d8576b"
             ],
             [
              0.6666666666666666,
              "#ed7953"
             ],
             [
              0.7777777777777778,
              "#fb9f3a"
             ],
             [
              0.8888888888888888,
              "#fdca26"
             ],
             [
              1,
              "#f0f921"
             ]
            ],
            "type": "histogram2dcontour"
           }
          ],
          "mesh3d": [
           {
            "colorbar": {
             "outlinewidth": 0,
             "ticks": ""
            },
            "type": "mesh3d"
           }
          ],
          "parcoords": [
           {
            "line": {
             "colorbar": {
              "outlinewidth": 0,
              "ticks": ""
             }
            },
            "type": "parcoords"
           }
          ],
          "pie": [
           {
            "automargin": true,
            "type": "pie"
           }
          ],
          "scatter": [
           {
            "fillpattern": {
             "fillmode": "overlay",
             "size": 10,
             "solidity": 0.2
            },
            "type": "scatter"
           }
          ],
          "scatter3d": [
           {
            "line": {
             "colorbar": {
              "outlinewidth": 0,
              "ticks": ""
             }
            },
            "marker": {
             "colorbar": {
              "outlinewidth": 0,
              "ticks": ""
             }
            },
            "type": "scatter3d"
           }
          ],
          "scattercarpet": [
           {
            "marker": {
             "colorbar": {
              "outlinewidth": 0,
              "ticks": ""
             }
            },
            "type": "scattercarpet"
           }
          ],
          "scattergeo": [
           {
            "marker": {
             "colorbar": {
              "outlinewidth": 0,
              "ticks": ""
             }
            },
            "type": "scattergeo"
           }
          ],
          "scattergl": [
           {
            "marker": {
             "colorbar": {
              "outlinewidth": 0,
              "ticks": ""
             }
            },
            "type": "scattergl"
           }
          ],
          "scattermapbox": [
           {
            "marker": {
             "colorbar": {
              "outlinewidth": 0,
              "ticks": ""
             }
            },
            "type": "scattermapbox"
           }
          ],
          "scatterpolar": [
           {
            "marker": {
             "colorbar": {
              "outlinewidth": 0,
              "ticks": ""
             }
            },
            "type": "scatterpolar"
           }
          ],
          "scatterpolargl": [
           {
            "marker": {
             "colorbar": {
              "outlinewidth": 0,
              "ticks": ""
             }
            },
            "type": "scatterpolargl"
           }
          ],
          "scatterternary": [
           {
            "marker": {
             "colorbar": {
              "outlinewidth": 0,
              "ticks": ""
             }
            },
            "type": "scatterternary"
           }
          ],
          "surface": [
           {
            "colorbar": {
             "outlinewidth": 0,
             "ticks": ""
            },
            "colorscale": [
             [
              0,
              "#0d0887"
             ],
             [
              0.1111111111111111,
              "#46039f"
             ],
             [
              0.2222222222222222,
              "#7201a8"
             ],
             [
              0.3333333333333333,
              "#9c179e"
             ],
             [
              0.4444444444444444,
              "#bd3786"
             ],
             [
              0.5555555555555556,
              "#d8576b"
             ],
             [
              0.6666666666666666,
              "#ed7953"
             ],
             [
              0.7777777777777778,
              "#fb9f3a"
             ],
             [
              0.8888888888888888,
              "#fdca26"
             ],
             [
              1,
              "#f0f921"
             ]
            ],
            "type": "surface"
           }
          ],
          "table": [
           {
            "cells": {
             "fill": {
              "color": "#EBF0F8"
             },
             "line": {
              "color": "white"
             }
            },
            "header": {
             "fill": {
              "color": "#C8D4E3"
             },
             "line": {
              "color": "white"
             }
            },
            "type": "table"
           }
          ]
         },
         "layout": {
          "annotationdefaults": {
           "arrowcolor": "#2a3f5f",
           "arrowhead": 0,
           "arrowwidth": 1
          },
          "autotypenumbers": "strict",
          "coloraxis": {
           "colorbar": {
            "outlinewidth": 0,
            "ticks": ""
           }
          },
          "colorscale": {
           "diverging": [
            [
             0,
             "#8e0152"
            ],
            [
             0.1,
             "#c51b7d"
            ],
            [
             0.2,
             "#de77ae"
            ],
            [
             0.3,
             "#f1b6da"
            ],
            [
             0.4,
             "#fde0ef"
            ],
            [
             0.5,
             "#f7f7f7"
            ],
            [
             0.6,
             "#e6f5d0"
            ],
            [
             0.7,
             "#b8e186"
            ],
            [
             0.8,
             "#7fbc41"
            ],
            [
             0.9,
             "#4d9221"
            ],
            [
             1,
             "#276419"
            ]
           ],
           "sequential": [
            [
             0,
             "#0d0887"
            ],
            [
             0.1111111111111111,
             "#46039f"
            ],
            [
             0.2222222222222222,
             "#7201a8"
            ],
            [
             0.3333333333333333,
             "#9c179e"
            ],
            [
             0.4444444444444444,
             "#bd3786"
            ],
            [
             0.5555555555555556,
             "#d8576b"
            ],
            [
             0.6666666666666666,
             "#ed7953"
            ],
            [
             0.7777777777777778,
             "#fb9f3a"
            ],
            [
             0.8888888888888888,
             "#fdca26"
            ],
            [
             1,
             "#f0f921"
            ]
           ],
           "sequentialminus": [
            [
             0,
             "#0d0887"
            ],
            [
             0.1111111111111111,
             "#46039f"
            ],
            [
             0.2222222222222222,
             "#7201a8"
            ],
            [
             0.3333333333333333,
             "#9c179e"
            ],
            [
             0.4444444444444444,
             "#bd3786"
            ],
            [
             0.5555555555555556,
             "#d8576b"
            ],
            [
             0.6666666666666666,
             "#ed7953"
            ],
            [
             0.7777777777777778,
             "#fb9f3a"
            ],
            [
             0.8888888888888888,
             "#fdca26"
            ],
            [
             1,
             "#f0f921"
            ]
           ]
          },
          "colorway": [
           "#636efa",
           "#EF553B",
           "#00cc96",
           "#ab63fa",
           "#FFA15A",
           "#19d3f3",
           "#FF6692",
           "#B6E880",
           "#FF97FF",
           "#FECB52"
          ],
          "font": {
           "color": "#2a3f5f"
          },
          "geo": {
           "bgcolor": "white",
           "lakecolor": "white",
           "landcolor": "#E5ECF6",
           "showlakes": true,
           "showland": true,
           "subunitcolor": "white"
          },
          "hoverlabel": {
           "align": "left"
          },
          "hovermode": "closest",
          "mapbox": {
           "style": "light"
          },
          "paper_bgcolor": "white",
          "plot_bgcolor": "#E5ECF6",
          "polar": {
           "angularaxis": {
            "gridcolor": "white",
            "linecolor": "white",
            "ticks": ""
           },
           "bgcolor": "#E5ECF6",
           "radialaxis": {
            "gridcolor": "white",
            "linecolor": "white",
            "ticks": ""
           }
          },
          "scene": {
           "xaxis": {
            "backgroundcolor": "#E5ECF6",
            "gridcolor": "white",
            "gridwidth": 2,
            "linecolor": "white",
            "showbackground": true,
            "ticks": "",
            "zerolinecolor": "white"
           },
           "yaxis": {
            "backgroundcolor": "#E5ECF6",
            "gridcolor": "white",
            "gridwidth": 2,
            "linecolor": "white",
            "showbackground": true,
            "ticks": "",
            "zerolinecolor": "white"
           },
           "zaxis": {
            "backgroundcolor": "#E5ECF6",
            "gridcolor": "white",
            "gridwidth": 2,
            "linecolor": "white",
            "showbackground": true,
            "ticks": "",
            "zerolinecolor": "white"
           }
          },
          "shapedefaults": {
           "line": {
            "color": "#2a3f5f"
           }
          },
          "ternary": {
           "aaxis": {
            "gridcolor": "white",
            "linecolor": "white",
            "ticks": ""
           },
           "baxis": {
            "gridcolor": "white",
            "linecolor": "white",
            "ticks": ""
           },
           "bgcolor": "#E5ECF6",
           "caxis": {
            "gridcolor": "white",
            "linecolor": "white",
            "ticks": ""
           }
          },
          "title": {
           "x": 0.05
          },
          "xaxis": {
           "automargin": true,
           "gridcolor": "white",
           "linecolor": "white",
           "ticks": "",
           "title": {
            "standoff": 15
           },
           "zerolinecolor": "white",
           "zerolinewidth": 2
          },
          "yaxis": {
           "automargin": true,
           "gridcolor": "white",
           "linecolor": "white",
           "ticks": "",
           "title": {
            "standoff": 15
           },
           "zerolinecolor": "white",
           "zerolinewidth": 2
          }
         }
        }
       }
      },
      "text/html": [
       "<div>                            <div id=\"3e763c2e-cb02-4e12-94b0-c8e500892ee5\" class=\"plotly-graph-div\" style=\"height:525px; width:100%;\"></div>            <script type=\"text/javascript\">                require([\"plotly\"], function(Plotly) {                    window.PLOTLYENV=window.PLOTLYENV || {};                                    if (document.getElementById(\"3e763c2e-cb02-4e12-94b0-c8e500892ee5\")) {                    Plotly.newPlot(                        \"3e763c2e-cb02-4e12-94b0-c8e500892ee5\",                        [{\"line\":{\"color\":\"blue\",\"width\":2},\"name\":\"Meta - Actual\",\"opacity\":0.7,\"x\":[\"2023-10-17 06:35:03\",\"2023-10-17 06:36:32\",\"2023-10-17 06:37:18\",\"2023-10-17 06:38:19\",\"2023-10-17 06:39:08\",\"2023-10-17 06:40:03\",\"2023-10-17 06:41:26\",\"2023-10-17 06:42:00\",\"2023-10-17 06:43:03\",\"2023-10-17 06:44:08\",\"2023-10-17 06:45:25\",\"2023-10-17 06:46:00\",\"2023-10-17 06:47:04\",\"2023-10-17 06:48:15\",\"2023-10-17 06:49:27\",\"2023-10-17 06:50:12\",\"2023-10-17 06:51:16\",\"2023-10-17 06:52:50\",\"2023-10-17 06:53:00\",\"2023-10-17 06:54:11\",\"2023-10-17 06:55:52\",\"2023-10-17 06:56:13\",\"2023-10-17 06:57:05\",\"2023-10-17 06:58:14\",\"2023-10-17 06:59:08\"],\"y\":[320.62,320.64,320.63,320.64,320.64,320.45,320.23,320.18,320.0,319.92,320.06,320.1,320.12,320.18,320.15,320.2,320.0,320.17,320.18,320.1,320.16,320.11,320.2,320.19,320.19],\"type\":\"scatter\"},{\"line\":{\"color\":\"red\",\"width\":2},\"name\":\"Meta - prediction\",\"opacity\":0.7,\"x\":[\"2023-10-17 07:00:00\",\"2023-10-17 07:01:00\",\"2023-10-17 07:02:00\",\"2023-10-17 07:03:00\",\"2023-10-17 07:04:00\"],\"y\":[320.16218343257907,320.15297261953356,320.1480166912079,320.14675641775136,320.1477900123596],\"type\":\"scatter\"}],                        {\"template\":{\"data\":{\"histogram2dcontour\":[{\"type\":\"histogram2dcontour\",\"colorbar\":{\"outlinewidth\":0,\"ticks\":\"\"},\"colorscale\":[[0.0,\"#0d0887\"],[0.1111111111111111,\"#46039f\"],[0.2222222222222222,\"#7201a8\"],[0.3333333333333333,\"#9c179e\"],[0.4444444444444444,\"#bd3786\"],[0.5555555555555556,\"#d8576b\"],[0.6666666666666666,\"#ed7953\"],[0.7777777777777778,\"#fb9f3a\"],[0.8888888888888888,\"#fdca26\"],[1.0,\"#f0f921\"]]}],\"choropleth\":[{\"type\":\"choropleth\",\"colorbar\":{\"outlinewidth\":0,\"ticks\":\"\"}}],\"histogram2d\":[{\"type\":\"histogram2d\",\"colorbar\":{\"outlinewidth\":0,\"ticks\":\"\"},\"colorscale\":[[0.0,\"#0d0887\"],[0.1111111111111111,\"#46039f\"],[0.2222222222222222,\"#7201a8\"],[0.3333333333333333,\"#9c179e\"],[0.4444444444444444,\"#bd3786\"],[0.5555555555555556,\"#d8576b\"],[0.6666666666666666,\"#ed7953\"],[0.7777777777777778,\"#fb9f3a\"],[0.8888888888888888,\"#fdca26\"],[1.0,\"#f0f921\"]]}],\"heatmap\":[{\"type\":\"heatmap\",\"colorbar\":{\"outlinewidth\":0,\"ticks\":\"\"},\"colorscale\":[[0.0,\"#0d0887\"],[0.1111111111111111,\"#46039f\"],[0.2222222222222222,\"#7201a8\"],[0.3333333333333333,\"#9c179e\"],[0.4444444444444444,\"#bd3786\"],[0.5555555555555556,\"#d8576b\"],[0.6666666666666666,\"#ed7953\"],[0.7777777777777778,\"#fb9f3a\"],[0.8888888888888888,\"#fdca26\"],[1.0,\"#f0f921\"]]}],\"heatmapgl\":[{\"type\":\"heatmapgl\",\"colorbar\":{\"outlinewidth\":0,\"ticks\":\"\"},\"colorscale\":[[0.0,\"#0d0887\"],[0.1111111111111111,\"#46039f\"],[0.2222222222222222,\"#7201a8\"],[0.3333333333333333,\"#9c179e\"],[0.4444444444444444,\"#bd3786\"],[0.5555555555555556,\"#d8576b\"],[0.6666666666666666,\"#ed7953\"],[0.7777777777777778,\"#fb9f3a\"],[0.8888888888888888,\"#fdca26\"],[1.0,\"#f0f921\"]]}],\"contourcarpet\":[{\"type\":\"contourcarpet\",\"colorbar\":{\"outlinewidth\":0,\"ticks\":\"\"}}],\"contour\":[{\"type\":\"contour\",\"colorbar\":{\"outlinewidth\":0,\"ticks\":\"\"},\"colorscale\":[[0.0,\"#0d0887\"],[0.1111111111111111,\"#46039f\"],[0.2222222222222222,\"#7201a8\"],[0.3333333333333333,\"#9c179e\"],[0.4444444444444444,\"#bd3786\"],[0.5555555555555556,\"#d8576b\"],[0.6666666666666666,\"#ed7953\"],[0.7777777777777778,\"#fb9f3a\"],[0.8888888888888888,\"#fdca26\"],[1.0,\"#f0f921\"]]}],\"surface\":[{\"type\":\"surface\",\"colorbar\":{\"outlinewidth\":0,\"ticks\":\"\"},\"colorscale\":[[0.0,\"#0d0887\"],[0.1111111111111111,\"#46039f\"],[0.2222222222222222,\"#7201a8\"],[0.3333333333333333,\"#9c179e\"],[0.4444444444444444,\"#bd3786\"],[0.5555555555555556,\"#d8576b\"],[0.6666666666666666,\"#ed7953\"],[0.7777777777777778,\"#fb9f3a\"],[0.8888888888888888,\"#fdca26\"],[1.0,\"#f0f921\"]]}],\"mesh3d\":[{\"type\":\"mesh3d\",\"colorbar\":{\"outlinewidth\":0,\"ticks\":\"\"}}],\"scatter\":[{\"fillpattern\":{\"fillmode\":\"overlay\",\"size\":10,\"solidity\":0.2},\"type\":\"scatter\"}],\"parcoords\":[{\"type\":\"parcoords\",\"line\":{\"colorbar\":{\"outlinewidth\":0,\"ticks\":\"\"}}}],\"scatterpolargl\":[{\"type\":\"scatterpolargl\",\"marker\":{\"colorbar\":{\"outlinewidth\":0,\"ticks\":\"\"}}}],\"bar\":[{\"error_x\":{\"color\":\"#2a3f5f\"},\"error_y\":{\"color\":\"#2a3f5f\"},\"marker\":{\"line\":{\"color\":\"#E5ECF6\",\"width\":0.5},\"pattern\":{\"fillmode\":\"overlay\",\"size\":10,\"solidity\":0.2}},\"type\":\"bar\"}],\"scattergeo\":[{\"type\":\"scattergeo\",\"marker\":{\"colorbar\":{\"outlinewidth\":0,\"ticks\":\"\"}}}],\"scatterpolar\":[{\"type\":\"scatterpolar\",\"marker\":{\"colorbar\":{\"outlinewidth\":0,\"ticks\":\"\"}}}],\"histogram\":[{\"marker\":{\"pattern\":{\"fillmode\":\"overlay\",\"size\":10,\"solidity\":0.2}},\"type\":\"histogram\"}],\"scattergl\":[{\"type\":\"scattergl\",\"marker\":{\"colorbar\":{\"outlinewidth\":0,\"ticks\":\"\"}}}],\"scatter3d\":[{\"type\":\"scatter3d\",\"line\":{\"colorbar\":{\"outlinewidth\":0,\"ticks\":\"\"}},\"marker\":{\"colorbar\":{\"outlinewidth\":0,\"ticks\":\"\"}}}],\"scattermapbox\":[{\"type\":\"scattermapbox\",\"marker\":{\"colorbar\":{\"outlinewidth\":0,\"ticks\":\"\"}}}],\"scatterternary\":[{\"type\":\"scatterternary\",\"marker\":{\"colorbar\":{\"outlinewidth\":0,\"ticks\":\"\"}}}],\"scattercarpet\":[{\"type\":\"scattercarpet\",\"marker\":{\"colorbar\":{\"outlinewidth\":0,\"ticks\":\"\"}}}],\"carpet\":[{\"aaxis\":{\"endlinecolor\":\"#2a3f5f\",\"gridcolor\":\"white\",\"linecolor\":\"white\",\"minorgridcolor\":\"white\",\"startlinecolor\":\"#2a3f5f\"},\"baxis\":{\"endlinecolor\":\"#2a3f5f\",\"gridcolor\":\"white\",\"linecolor\":\"white\",\"minorgridcolor\":\"white\",\"startlinecolor\":\"#2a3f5f\"},\"type\":\"carpet\"}],\"table\":[{\"cells\":{\"fill\":{\"color\":\"#EBF0F8\"},\"line\":{\"color\":\"white\"}},\"header\":{\"fill\":{\"color\":\"#C8D4E3\"},\"line\":{\"color\":\"white\"}},\"type\":\"table\"}],\"barpolar\":[{\"marker\":{\"line\":{\"color\":\"#E5ECF6\",\"width\":0.5},\"pattern\":{\"fillmode\":\"overlay\",\"size\":10,\"solidity\":0.2}},\"type\":\"barpolar\"}],\"pie\":[{\"automargin\":true,\"type\":\"pie\"}]},\"layout\":{\"autotypenumbers\":\"strict\",\"colorway\":[\"#636efa\",\"#EF553B\",\"#00cc96\",\"#ab63fa\",\"#FFA15A\",\"#19d3f3\",\"#FF6692\",\"#B6E880\",\"#FF97FF\",\"#FECB52\"],\"font\":{\"color\":\"#2a3f5f\"},\"hovermode\":\"closest\",\"hoverlabel\":{\"align\":\"left\"},\"paper_bgcolor\":\"white\",\"plot_bgcolor\":\"#E5ECF6\",\"polar\":{\"bgcolor\":\"#E5ECF6\",\"angularaxis\":{\"gridcolor\":\"white\",\"linecolor\":\"white\",\"ticks\":\"\"},\"radialaxis\":{\"gridcolor\":\"white\",\"linecolor\":\"white\",\"ticks\":\"\"}},\"ternary\":{\"bgcolor\":\"#E5ECF6\",\"aaxis\":{\"gridcolor\":\"white\",\"linecolor\":\"white\",\"ticks\":\"\"},\"baxis\":{\"gridcolor\":\"white\",\"linecolor\":\"white\",\"ticks\":\"\"},\"caxis\":{\"gridcolor\":\"white\",\"linecolor\":\"white\",\"ticks\":\"\"}},\"coloraxis\":{\"colorbar\":{\"outlinewidth\":0,\"ticks\":\"\"}},\"colorscale\":{\"sequential\":[[0.0,\"#0d0887\"],[0.1111111111111111,\"#46039f\"],[0.2222222222222222,\"#7201a8\"],[0.3333333333333333,\"#9c179e\"],[0.4444444444444444,\"#bd3786\"],[0.5555555555555556,\"#d8576b\"],[0.6666666666666666,\"#ed7953\"],[0.7777777777777778,\"#fb9f3a\"],[0.8888888888888888,\"#fdca26\"],[1.0,\"#f0f921\"]],\"sequentialminus\":[[0.0,\"#0d0887\"],[0.1111111111111111,\"#46039f\"],[0.2222222222222222,\"#7201a8\"],[0.3333333333333333,\"#9c179e\"],[0.4444444444444444,\"#bd3786\"],[0.5555555555555556,\"#d8576b\"],[0.6666666666666666,\"#ed7953\"],[0.7777777777777778,\"#fb9f3a\"],[0.8888888888888888,\"#fdca26\"],[1.0,\"#f0f921\"]],\"diverging\":[[0,\"#8e0152\"],[0.1,\"#c51b7d\"],[0.2,\"#de77ae\"],[0.3,\"#f1b6da\"],[0.4,\"#fde0ef\"],[0.5,\"#f7f7f7\"],[0.6,\"#e6f5d0\"],[0.7,\"#b8e186\"],[0.8,\"#7fbc41\"],[0.9,\"#4d9221\"],[1,\"#276419\"]]},\"xaxis\":{\"gridcolor\":\"white\",\"linecolor\":\"white\",\"ticks\":\"\",\"title\":{\"standoff\":15},\"zerolinecolor\":\"white\",\"automargin\":true,\"zerolinewidth\":2},\"yaxis\":{\"gridcolor\":\"white\",\"linecolor\":\"white\",\"ticks\":\"\",\"title\":{\"standoff\":15},\"zerolinecolor\":\"white\",\"automargin\":true,\"zerolinewidth\":2},\"scene\":{\"xaxis\":{\"backgroundcolor\":\"#E5ECF6\",\"gridcolor\":\"white\",\"linecolor\":\"white\",\"showbackground\":true,\"ticks\":\"\",\"zerolinecolor\":\"white\",\"gridwidth\":2},\"yaxis\":{\"backgroundcolor\":\"#E5ECF6\",\"gridcolor\":\"white\",\"linecolor\":\"white\",\"showbackground\":true,\"ticks\":\"\",\"zerolinecolor\":\"white\",\"gridwidth\":2},\"zaxis\":{\"backgroundcolor\":\"#E5ECF6\",\"gridcolor\":\"white\",\"linecolor\":\"white\",\"showbackground\":true,\"ticks\":\"\",\"zerolinecolor\":\"white\",\"gridwidth\":2}},\"shapedefaults\":{\"line\":{\"color\":\"#2a3f5f\"}},\"annotationdefaults\":{\"arrowcolor\":\"#2a3f5f\",\"arrowhead\":0,\"arrowwidth\":1},\"geo\":{\"bgcolor\":\"white\",\"landcolor\":\"#E5ECF6\",\"subunitcolor\":\"white\",\"showland\":true,\"showlakes\":true,\"lakecolor\":\"white\"},\"title\":{\"x\":0.05},\"mapbox\":{\"style\":\"light\"}}}},                        {\"responsive\": true}                    ).then(function(){\n",
       "                            \n",
       "var gd = document.getElementById('3e763c2e-cb02-4e12-94b0-c8e500892ee5');\n",
       "var x = new MutationObserver(function (mutations, observer) {{\n",
       "        var display = window.getComputedStyle(gd).display;\n",
       "        if (!display || display === 'none') {{\n",
       "            console.log([gd, 'removed!']);\n",
       "            Plotly.purge(gd);\n",
       "            observer.disconnect();\n",
       "        }}\n",
       "}});\n",
       "\n",
       "// Listen for the removal of the full notebook cells\n",
       "var notebookContainer = gd.closest('#notebook-container');\n",
       "if (notebookContainer) {{\n",
       "    x.observe(notebookContainer, {childList: true});\n",
       "}}\n",
       "\n",
       "// Listen for the clearing of the current output cell\n",
       "var outputEl = gd.closest('.output');\n",
       "if (outputEl) {{\n",
       "    x.observe(outputEl, {childList: true});\n",
       "}}\n",
       "\n",
       "                        })                };                });            </script>        </div>"
      ]
     },
     "metadata": {},
     "output_type": "display_data"
    }
   ],
   "source": [
    "fig=go.Figure()\n",
    "fig.add_trace(go.Scatter(x=META.index,\n",
    "                         y=META['price'],\n",
    "                         opacity=0.7,\n",
    "                         line=dict(color='blue', width=2),\n",
    "                         name='Meta - Actual'))\n",
    "fig.add_trace(go.Scatter(x=meta_predictions.index,\n",
    "                         y=meta_predictions['price'],\n",
    "                         opacity=0.7,\n",
    "                         line=dict(color='red', width=2),\n",
    "                         name='Meta - prediction'))\n",
    "# Show the figure\n",
    "fig.show()"
   ]
  },
  {
   "cell_type": "code",
   "execution_count": 31,
   "id": "afe7baef",
   "metadata": {},
   "outputs": [
    {
     "data": {
      "application/vnd.plotly.v1+json": {
       "config": {
        "plotlyServerURL": "https://plot.ly"
       },
       "data": [
        {
         "line": {
          "color": "blue",
          "width": 2
         },
         "name": "NVDA - Actual",
         "opacity": 0.7,
         "type": "scatter",
         "x": [
          "2023-10-17 06:34:55",
          "2023-10-17 06:35:09",
          "2023-10-17 06:36:00",
          "2023-10-17 06:37:01",
          "2023-10-17 06:38:00",
          "2023-10-17 06:39:00",
          "2023-10-17 06:40:07",
          "2023-10-17 06:41:01",
          "2023-10-17 06:42:05",
          "2023-10-17 06:43:00",
          "2023-10-17 06:44:18",
          "2023-10-17 06:45:00",
          "2023-10-17 06:46:01",
          "2023-10-17 06:47:01",
          "2023-10-17 06:48:00",
          "2023-10-17 06:49:06",
          "2023-10-17 06:50:01",
          "2023-10-17 06:51:01",
          "2023-10-17 06:52:05",
          "2023-10-17 06:53:14",
          "2023-10-17 06:54:13",
          "2023-10-17 06:55:08",
          "2023-10-17 06:56:01",
          "2023-10-17 06:57:00",
          "2023-10-17 06:58:03",
          "2023-10-17 06:59:01"
         ],
         "y": [
          456,
          455.97,
          456.12,
          456.23,
          456.16,
          456.4,
          456.52,
          456.5,
          456.19,
          456.22,
          456.32,
          456.53,
          456.7,
          456.8,
          456.79,
          456.73,
          456.67,
          456.46,
          456.4,
          456.42,
          456.45,
          456.69,
          456.48,
          456.7,
          456.86,
          457.17
         ]
        },
        {
         "line": {
          "color": "red",
          "width": 2
         },
         "name": "NVDA - prediction",
         "opacity": 0.7,
         "type": "scatter",
         "x": [
          "2023-10-17 07:00:00",
          "2023-10-17 07:01:00",
          "2023-10-17 07:02:00",
          "2023-10-17 07:03:00",
          "2023-10-17 07:04:00"
         ],
         "y": [
          456.5266547155381,
          456.535859913826,
          456.54284088134773,
          456.5476705026627,
          456.55058856725697
         ]
        }
       ],
       "layout": {
        "template": {
         "data": {
          "bar": [
           {
            "error_x": {
             "color": "#2a3f5f"
            },
            "error_y": {
             "color": "#2a3f5f"
            },
            "marker": {
             "line": {
              "color": "#E5ECF6",
              "width": 0.5
             },
             "pattern": {
              "fillmode": "overlay",
              "size": 10,
              "solidity": 0.2
             }
            },
            "type": "bar"
           }
          ],
          "barpolar": [
           {
            "marker": {
             "line": {
              "color": "#E5ECF6",
              "width": 0.5
             },
             "pattern": {
              "fillmode": "overlay",
              "size": 10,
              "solidity": 0.2
             }
            },
            "type": "barpolar"
           }
          ],
          "carpet": [
           {
            "aaxis": {
             "endlinecolor": "#2a3f5f",
             "gridcolor": "white",
             "linecolor": "white",
             "minorgridcolor": "white",
             "startlinecolor": "#2a3f5f"
            },
            "baxis": {
             "endlinecolor": "#2a3f5f",
             "gridcolor": "white",
             "linecolor": "white",
             "minorgridcolor": "white",
             "startlinecolor": "#2a3f5f"
            },
            "type": "carpet"
           }
          ],
          "choropleth": [
           {
            "colorbar": {
             "outlinewidth": 0,
             "ticks": ""
            },
            "type": "choropleth"
           }
          ],
          "contour": [
           {
            "colorbar": {
             "outlinewidth": 0,
             "ticks": ""
            },
            "colorscale": [
             [
              0,
              "#0d0887"
             ],
             [
              0.1111111111111111,
              "#46039f"
             ],
             [
              0.2222222222222222,
              "#7201a8"
             ],
             [
              0.3333333333333333,
              "#9c179e"
             ],
             [
              0.4444444444444444,
              "#bd3786"
             ],
             [
              0.5555555555555556,
              "#d8576b"
             ],
             [
              0.6666666666666666,
              "#ed7953"
             ],
             [
              0.7777777777777778,
              "#fb9f3a"
             ],
             [
              0.8888888888888888,
              "#fdca26"
             ],
             [
              1,
              "#f0f921"
             ]
            ],
            "type": "contour"
           }
          ],
          "contourcarpet": [
           {
            "colorbar": {
             "outlinewidth": 0,
             "ticks": ""
            },
            "type": "contourcarpet"
           }
          ],
          "heatmap": [
           {
            "colorbar": {
             "outlinewidth": 0,
             "ticks": ""
            },
            "colorscale": [
             [
              0,
              "#0d0887"
             ],
             [
              0.1111111111111111,
              "#46039f"
             ],
             [
              0.2222222222222222,
              "#7201a8"
             ],
             [
              0.3333333333333333,
              "#9c179e"
             ],
             [
              0.4444444444444444,
              "#bd3786"
             ],
             [
              0.5555555555555556,
              "#d8576b"
             ],
             [
              0.6666666666666666,
              "#ed7953"
             ],
             [
              0.7777777777777778,
              "#fb9f3a"
             ],
             [
              0.8888888888888888,
              "#fdca26"
             ],
             [
              1,
              "#f0f921"
             ]
            ],
            "type": "heatmap"
           }
          ],
          "heatmapgl": [
           {
            "colorbar": {
             "outlinewidth": 0,
             "ticks": ""
            },
            "colorscale": [
             [
              0,
              "#0d0887"
             ],
             [
              0.1111111111111111,
              "#46039f"
             ],
             [
              0.2222222222222222,
              "#7201a8"
             ],
             [
              0.3333333333333333,
              "#9c179e"
             ],
             [
              0.4444444444444444,
              "#bd3786"
             ],
             [
              0.5555555555555556,
              "#d8576b"
             ],
             [
              0.6666666666666666,
              "#ed7953"
             ],
             [
              0.7777777777777778,
              "#fb9f3a"
             ],
             [
              0.8888888888888888,
              "#fdca26"
             ],
             [
              1,
              "#f0f921"
             ]
            ],
            "type": "heatmapgl"
           }
          ],
          "histogram": [
           {
            "marker": {
             "pattern": {
              "fillmode": "overlay",
              "size": 10,
              "solidity": 0.2
             }
            },
            "type": "histogram"
           }
          ],
          "histogram2d": [
           {
            "colorbar": {
             "outlinewidth": 0,
             "ticks": ""
            },
            "colorscale": [
             [
              0,
              "#0d0887"
             ],
             [
              0.1111111111111111,
              "#46039f"
             ],
             [
              0.2222222222222222,
              "#7201a8"
             ],
             [
              0.3333333333333333,
              "#9c179e"
             ],
             [
              0.4444444444444444,
              "#bd3786"
             ],
             [
              0.5555555555555556,
              "#d8576b"
             ],
             [
              0.6666666666666666,
              "#ed7953"
             ],
             [
              0.7777777777777778,
              "#fb9f3a"
             ],
             [
              0.8888888888888888,
              "#fdca26"
             ],
             [
              1,
              "#f0f921"
             ]
            ],
            "type": "histogram2d"
           }
          ],
          "histogram2dcontour": [
           {
            "colorbar": {
             "outlinewidth": 0,
             "ticks": ""
            },
            "colorscale": [
             [
              0,
              "#0d0887"
             ],
             [
              0.1111111111111111,
              "#46039f"
             ],
             [
              0.2222222222222222,
              "#7201a8"
             ],
             [
              0.3333333333333333,
              "#9c179e"
             ],
             [
              0.4444444444444444,
              "#bd3786"
             ],
             [
              0.5555555555555556,
              "#d8576b"
             ],
             [
              0.6666666666666666,
              "#ed7953"
             ],
             [
              0.7777777777777778,
              "#fb9f3a"
             ],
             [
              0.8888888888888888,
              "#fdca26"
             ],
             [
              1,
              "#f0f921"
             ]
            ],
            "type": "histogram2dcontour"
           }
          ],
          "mesh3d": [
           {
            "colorbar": {
             "outlinewidth": 0,
             "ticks": ""
            },
            "type": "mesh3d"
           }
          ],
          "parcoords": [
           {
            "line": {
             "colorbar": {
              "outlinewidth": 0,
              "ticks": ""
             }
            },
            "type": "parcoords"
           }
          ],
          "pie": [
           {
            "automargin": true,
            "type": "pie"
           }
          ],
          "scatter": [
           {
            "fillpattern": {
             "fillmode": "overlay",
             "size": 10,
             "solidity": 0.2
            },
            "type": "scatter"
           }
          ],
          "scatter3d": [
           {
            "line": {
             "colorbar": {
              "outlinewidth": 0,
              "ticks": ""
             }
            },
            "marker": {
             "colorbar": {
              "outlinewidth": 0,
              "ticks": ""
             }
            },
            "type": "scatter3d"
           }
          ],
          "scattercarpet": [
           {
            "marker": {
             "colorbar": {
              "outlinewidth": 0,
              "ticks": ""
             }
            },
            "type": "scattercarpet"
           }
          ],
          "scattergeo": [
           {
            "marker": {
             "colorbar": {
              "outlinewidth": 0,
              "ticks": ""
             }
            },
            "type": "scattergeo"
           }
          ],
          "scattergl": [
           {
            "marker": {
             "colorbar": {
              "outlinewidth": 0,
              "ticks": ""
             }
            },
            "type": "scattergl"
           }
          ],
          "scattermapbox": [
           {
            "marker": {
             "colorbar": {
              "outlinewidth": 0,
              "ticks": ""
             }
            },
            "type": "scattermapbox"
           }
          ],
          "scatterpolar": [
           {
            "marker": {
             "colorbar": {
              "outlinewidth": 0,
              "ticks": ""
             }
            },
            "type": "scatterpolar"
           }
          ],
          "scatterpolargl": [
           {
            "marker": {
             "colorbar": {
              "outlinewidth": 0,
              "ticks": ""
             }
            },
            "type": "scatterpolargl"
           }
          ],
          "scatterternary": [
           {
            "marker": {
             "colorbar": {
              "outlinewidth": 0,
              "ticks": ""
             }
            },
            "type": "scatterternary"
           }
          ],
          "surface": [
           {
            "colorbar": {
             "outlinewidth": 0,
             "ticks": ""
            },
            "colorscale": [
             [
              0,
              "#0d0887"
             ],
             [
              0.1111111111111111,
              "#46039f"
             ],
             [
              0.2222222222222222,
              "#7201a8"
             ],
             [
              0.3333333333333333,
              "#9c179e"
             ],
             [
              0.4444444444444444,
              "#bd3786"
             ],
             [
              0.5555555555555556,
              "#d8576b"
             ],
             [
              0.6666666666666666,
              "#ed7953"
             ],
             [
              0.7777777777777778,
              "#fb9f3a"
             ],
             [
              0.8888888888888888,
              "#fdca26"
             ],
             [
              1,
              "#f0f921"
             ]
            ],
            "type": "surface"
           }
          ],
          "table": [
           {
            "cells": {
             "fill": {
              "color": "#EBF0F8"
             },
             "line": {
              "color": "white"
             }
            },
            "header": {
             "fill": {
              "color": "#C8D4E3"
             },
             "line": {
              "color": "white"
             }
            },
            "type": "table"
           }
          ]
         },
         "layout": {
          "annotationdefaults": {
           "arrowcolor": "#2a3f5f",
           "arrowhead": 0,
           "arrowwidth": 1
          },
          "autotypenumbers": "strict",
          "coloraxis": {
           "colorbar": {
            "outlinewidth": 0,
            "ticks": ""
           }
          },
          "colorscale": {
           "diverging": [
            [
             0,
             "#8e0152"
            ],
            [
             0.1,
             "#c51b7d"
            ],
            [
             0.2,
             "#de77ae"
            ],
            [
             0.3,
             "#f1b6da"
            ],
            [
             0.4,
             "#fde0ef"
            ],
            [
             0.5,
             "#f7f7f7"
            ],
            [
             0.6,
             "#e6f5d0"
            ],
            [
             0.7,
             "#b8e186"
            ],
            [
             0.8,
             "#7fbc41"
            ],
            [
             0.9,
             "#4d9221"
            ],
            [
             1,
             "#276419"
            ]
           ],
           "sequential": [
            [
             0,
             "#0d0887"
            ],
            [
             0.1111111111111111,
             "#46039f"
            ],
            [
             0.2222222222222222,
             "#7201a8"
            ],
            [
             0.3333333333333333,
             "#9c179e"
            ],
            [
             0.4444444444444444,
             "#bd3786"
            ],
            [
             0.5555555555555556,
             "#d8576b"
            ],
            [
             0.6666666666666666,
             "#ed7953"
            ],
            [
             0.7777777777777778,
             "#fb9f3a"
            ],
            [
             0.8888888888888888,
             "#fdca26"
            ],
            [
             1,
             "#f0f921"
            ]
           ],
           "sequentialminus": [
            [
             0,
             "#0d0887"
            ],
            [
             0.1111111111111111,
             "#46039f"
            ],
            [
             0.2222222222222222,
             "#7201a8"
            ],
            [
             0.3333333333333333,
             "#9c179e"
            ],
            [
             0.4444444444444444,
             "#bd3786"
            ],
            [
             0.5555555555555556,
             "#d8576b"
            ],
            [
             0.6666666666666666,
             "#ed7953"
            ],
            [
             0.7777777777777778,
             "#fb9f3a"
            ],
            [
             0.8888888888888888,
             "#fdca26"
            ],
            [
             1,
             "#f0f921"
            ]
           ]
          },
          "colorway": [
           "#636efa",
           "#EF553B",
           "#00cc96",
           "#ab63fa",
           "#FFA15A",
           "#19d3f3",
           "#FF6692",
           "#B6E880",
           "#FF97FF",
           "#FECB52"
          ],
          "font": {
           "color": "#2a3f5f"
          },
          "geo": {
           "bgcolor": "white",
           "lakecolor": "white",
           "landcolor": "#E5ECF6",
           "showlakes": true,
           "showland": true,
           "subunitcolor": "white"
          },
          "hoverlabel": {
           "align": "left"
          },
          "hovermode": "closest",
          "mapbox": {
           "style": "light"
          },
          "paper_bgcolor": "white",
          "plot_bgcolor": "#E5ECF6",
          "polar": {
           "angularaxis": {
            "gridcolor": "white",
            "linecolor": "white",
            "ticks": ""
           },
           "bgcolor": "#E5ECF6",
           "radialaxis": {
            "gridcolor": "white",
            "linecolor": "white",
            "ticks": ""
           }
          },
          "scene": {
           "xaxis": {
            "backgroundcolor": "#E5ECF6",
            "gridcolor": "white",
            "gridwidth": 2,
            "linecolor": "white",
            "showbackground": true,
            "ticks": "",
            "zerolinecolor": "white"
           },
           "yaxis": {
            "backgroundcolor": "#E5ECF6",
            "gridcolor": "white",
            "gridwidth": 2,
            "linecolor": "white",
            "showbackground": true,
            "ticks": "",
            "zerolinecolor": "white"
           },
           "zaxis": {
            "backgroundcolor": "#E5ECF6",
            "gridcolor": "white",
            "gridwidth": 2,
            "linecolor": "white",
            "showbackground": true,
            "ticks": "",
            "zerolinecolor": "white"
           }
          },
          "shapedefaults": {
           "line": {
            "color": "#2a3f5f"
           }
          },
          "ternary": {
           "aaxis": {
            "gridcolor": "white",
            "linecolor": "white",
            "ticks": ""
           },
           "baxis": {
            "gridcolor": "white",
            "linecolor": "white",
            "ticks": ""
           },
           "bgcolor": "#E5ECF6",
           "caxis": {
            "gridcolor": "white",
            "linecolor": "white",
            "ticks": ""
           }
          },
          "title": {
           "x": 0.05
          },
          "xaxis": {
           "automargin": true,
           "gridcolor": "white",
           "linecolor": "white",
           "ticks": "",
           "title": {
            "standoff": 15
           },
           "zerolinecolor": "white",
           "zerolinewidth": 2
          },
          "yaxis": {
           "automargin": true,
           "gridcolor": "white",
           "linecolor": "white",
           "ticks": "",
           "title": {
            "standoff": 15
           },
           "zerolinecolor": "white",
           "zerolinewidth": 2
          }
         }
        }
       }
      },
      "text/html": [
       "<div>                            <div id=\"35447b61-5970-4cdf-b766-6f20c471c479\" class=\"plotly-graph-div\" style=\"height:525px; width:100%;\"></div>            <script type=\"text/javascript\">                require([\"plotly\"], function(Plotly) {                    window.PLOTLYENV=window.PLOTLYENV || {};                                    if (document.getElementById(\"35447b61-5970-4cdf-b766-6f20c471c479\")) {                    Plotly.newPlot(                        \"35447b61-5970-4cdf-b766-6f20c471c479\",                        [{\"line\":{\"color\":\"blue\",\"width\":2},\"name\":\"NVDA - Actual\",\"opacity\":0.7,\"x\":[\"2023-10-17 06:34:55\",\"2023-10-17 06:35:09\",\"2023-10-17 06:36:00\",\"2023-10-17 06:37:01\",\"2023-10-17 06:38:00\",\"2023-10-17 06:39:00\",\"2023-10-17 06:40:07\",\"2023-10-17 06:41:01\",\"2023-10-17 06:42:05\",\"2023-10-17 06:43:00\",\"2023-10-17 06:44:18\",\"2023-10-17 06:45:00\",\"2023-10-17 06:46:01\",\"2023-10-17 06:47:01\",\"2023-10-17 06:48:00\",\"2023-10-17 06:49:06\",\"2023-10-17 06:50:01\",\"2023-10-17 06:51:01\",\"2023-10-17 06:52:05\",\"2023-10-17 06:53:14\",\"2023-10-17 06:54:13\",\"2023-10-17 06:55:08\",\"2023-10-17 06:56:01\",\"2023-10-17 06:57:00\",\"2023-10-17 06:58:03\",\"2023-10-17 06:59:01\"],\"y\":[456.0,455.97,456.12,456.23,456.16,456.4,456.52,456.5,456.19,456.22,456.32,456.53,456.7,456.8,456.79,456.73,456.67,456.46,456.4,456.42,456.45,456.69,456.48,456.7,456.86,457.17],\"type\":\"scatter\"},{\"line\":{\"color\":\"red\",\"width\":2},\"name\":\"NVDA - prediction\",\"opacity\":0.7,\"x\":[\"2023-10-17 07:00:00\",\"2023-10-17 07:01:00\",\"2023-10-17 07:02:00\",\"2023-10-17 07:03:00\",\"2023-10-17 07:04:00\"],\"y\":[456.5266547155381,456.535859913826,456.54284088134773,456.5476705026627,456.55058856725697],\"type\":\"scatter\"}],                        {\"template\":{\"data\":{\"histogram2dcontour\":[{\"type\":\"histogram2dcontour\",\"colorbar\":{\"outlinewidth\":0,\"ticks\":\"\"},\"colorscale\":[[0.0,\"#0d0887\"],[0.1111111111111111,\"#46039f\"],[0.2222222222222222,\"#7201a8\"],[0.3333333333333333,\"#9c179e\"],[0.4444444444444444,\"#bd3786\"],[0.5555555555555556,\"#d8576b\"],[0.6666666666666666,\"#ed7953\"],[0.7777777777777778,\"#fb9f3a\"],[0.8888888888888888,\"#fdca26\"],[1.0,\"#f0f921\"]]}],\"choropleth\":[{\"type\":\"choropleth\",\"colorbar\":{\"outlinewidth\":0,\"ticks\":\"\"}}],\"histogram2d\":[{\"type\":\"histogram2d\",\"colorbar\":{\"outlinewidth\":0,\"ticks\":\"\"},\"colorscale\":[[0.0,\"#0d0887\"],[0.1111111111111111,\"#46039f\"],[0.2222222222222222,\"#7201a8\"],[0.3333333333333333,\"#9c179e\"],[0.4444444444444444,\"#bd3786\"],[0.5555555555555556,\"#d8576b\"],[0.6666666666666666,\"#ed7953\"],[0.7777777777777778,\"#fb9f3a\"],[0.8888888888888888,\"#fdca26\"],[1.0,\"#f0f921\"]]}],\"heatmap\":[{\"type\":\"heatmap\",\"colorbar\":{\"outlinewidth\":0,\"ticks\":\"\"},\"colorscale\":[[0.0,\"#0d0887\"],[0.1111111111111111,\"#46039f\"],[0.2222222222222222,\"#7201a8\"],[0.3333333333333333,\"#9c179e\"],[0.4444444444444444,\"#bd3786\"],[0.5555555555555556,\"#d8576b\"],[0.6666666666666666,\"#ed7953\"],[0.7777777777777778,\"#fb9f3a\"],[0.8888888888888888,\"#fdca26\"],[1.0,\"#f0f921\"]]}],\"heatmapgl\":[{\"type\":\"heatmapgl\",\"colorbar\":{\"outlinewidth\":0,\"ticks\":\"\"},\"colorscale\":[[0.0,\"#0d0887\"],[0.1111111111111111,\"#46039f\"],[0.2222222222222222,\"#7201a8\"],[0.3333333333333333,\"#9c179e\"],[0.4444444444444444,\"#bd3786\"],[0.5555555555555556,\"#d8576b\"],[0.6666666666666666,\"#ed7953\"],[0.7777777777777778,\"#fb9f3a\"],[0.8888888888888888,\"#fdca26\"],[1.0,\"#f0f921\"]]}],\"contourcarpet\":[{\"type\":\"contourcarpet\",\"colorbar\":{\"outlinewidth\":0,\"ticks\":\"\"}}],\"contour\":[{\"type\":\"contour\",\"colorbar\":{\"outlinewidth\":0,\"ticks\":\"\"},\"colorscale\":[[0.0,\"#0d0887\"],[0.1111111111111111,\"#46039f\"],[0.2222222222222222,\"#7201a8\"],[0.3333333333333333,\"#9c179e\"],[0.4444444444444444,\"#bd3786\"],[0.5555555555555556,\"#d8576b\"],[0.6666666666666666,\"#ed7953\"],[0.7777777777777778,\"#fb9f3a\"],[0.8888888888888888,\"#fdca26\"],[1.0,\"#f0f921\"]]}],\"surface\":[{\"type\":\"surface\",\"colorbar\":{\"outlinewidth\":0,\"ticks\":\"\"},\"colorscale\":[[0.0,\"#0d0887\"],[0.1111111111111111,\"#46039f\"],[0.2222222222222222,\"#7201a8\"],[0.3333333333333333,\"#9c179e\"],[0.4444444444444444,\"#bd3786\"],[0.5555555555555556,\"#d8576b\"],[0.6666666666666666,\"#ed7953\"],[0.7777777777777778,\"#fb9f3a\"],[0.8888888888888888,\"#fdca26\"],[1.0,\"#f0f921\"]]}],\"mesh3d\":[{\"type\":\"mesh3d\",\"colorbar\":{\"outlinewidth\":0,\"ticks\":\"\"}}],\"scatter\":[{\"fillpattern\":{\"fillmode\":\"overlay\",\"size\":10,\"solidity\":0.2},\"type\":\"scatter\"}],\"parcoords\":[{\"type\":\"parcoords\",\"line\":{\"colorbar\":{\"outlinewidth\":0,\"ticks\":\"\"}}}],\"scatterpolargl\":[{\"type\":\"scatterpolargl\",\"marker\":{\"colorbar\":{\"outlinewidth\":0,\"ticks\":\"\"}}}],\"bar\":[{\"error_x\":{\"color\":\"#2a3f5f\"},\"error_y\":{\"color\":\"#2a3f5f\"},\"marker\":{\"line\":{\"color\":\"#E5ECF6\",\"width\":0.5},\"pattern\":{\"fillmode\":\"overlay\",\"size\":10,\"solidity\":0.2}},\"type\":\"bar\"}],\"scattergeo\":[{\"type\":\"scattergeo\",\"marker\":{\"colorbar\":{\"outlinewidth\":0,\"ticks\":\"\"}}}],\"scatterpolar\":[{\"type\":\"scatterpolar\",\"marker\":{\"colorbar\":{\"outlinewidth\":0,\"ticks\":\"\"}}}],\"histogram\":[{\"marker\":{\"pattern\":{\"fillmode\":\"overlay\",\"size\":10,\"solidity\":0.2}},\"type\":\"histogram\"}],\"scattergl\":[{\"type\":\"scattergl\",\"marker\":{\"colorbar\":{\"outlinewidth\":0,\"ticks\":\"\"}}}],\"scatter3d\":[{\"type\":\"scatter3d\",\"line\":{\"colorbar\":{\"outlinewidth\":0,\"ticks\":\"\"}},\"marker\":{\"colorbar\":{\"outlinewidth\":0,\"ticks\":\"\"}}}],\"scattermapbox\":[{\"type\":\"scattermapbox\",\"marker\":{\"colorbar\":{\"outlinewidth\":0,\"ticks\":\"\"}}}],\"scatterternary\":[{\"type\":\"scatterternary\",\"marker\":{\"colorbar\":{\"outlinewidth\":0,\"ticks\":\"\"}}}],\"scattercarpet\":[{\"type\":\"scattercarpet\",\"marker\":{\"colorbar\":{\"outlinewidth\":0,\"ticks\":\"\"}}}],\"carpet\":[{\"aaxis\":{\"endlinecolor\":\"#2a3f5f\",\"gridcolor\":\"white\",\"linecolor\":\"white\",\"minorgridcolor\":\"white\",\"startlinecolor\":\"#2a3f5f\"},\"baxis\":{\"endlinecolor\":\"#2a3f5f\",\"gridcolor\":\"white\",\"linecolor\":\"white\",\"minorgridcolor\":\"white\",\"startlinecolor\":\"#2a3f5f\"},\"type\":\"carpet\"}],\"table\":[{\"cells\":{\"fill\":{\"color\":\"#EBF0F8\"},\"line\":{\"color\":\"white\"}},\"header\":{\"fill\":{\"color\":\"#C8D4E3\"},\"line\":{\"color\":\"white\"}},\"type\":\"table\"}],\"barpolar\":[{\"marker\":{\"line\":{\"color\":\"#E5ECF6\",\"width\":0.5},\"pattern\":{\"fillmode\":\"overlay\",\"size\":10,\"solidity\":0.2}},\"type\":\"barpolar\"}],\"pie\":[{\"automargin\":true,\"type\":\"pie\"}]},\"layout\":{\"autotypenumbers\":\"strict\",\"colorway\":[\"#636efa\",\"#EF553B\",\"#00cc96\",\"#ab63fa\",\"#FFA15A\",\"#19d3f3\",\"#FF6692\",\"#B6E880\",\"#FF97FF\",\"#FECB52\"],\"font\":{\"color\":\"#2a3f5f\"},\"hovermode\":\"closest\",\"hoverlabel\":{\"align\":\"left\"},\"paper_bgcolor\":\"white\",\"plot_bgcolor\":\"#E5ECF6\",\"polar\":{\"bgcolor\":\"#E5ECF6\",\"angularaxis\":{\"gridcolor\":\"white\",\"linecolor\":\"white\",\"ticks\":\"\"},\"radialaxis\":{\"gridcolor\":\"white\",\"linecolor\":\"white\",\"ticks\":\"\"}},\"ternary\":{\"bgcolor\":\"#E5ECF6\",\"aaxis\":{\"gridcolor\":\"white\",\"linecolor\":\"white\",\"ticks\":\"\"},\"baxis\":{\"gridcolor\":\"white\",\"linecolor\":\"white\",\"ticks\":\"\"},\"caxis\":{\"gridcolor\":\"white\",\"linecolor\":\"white\",\"ticks\":\"\"}},\"coloraxis\":{\"colorbar\":{\"outlinewidth\":0,\"ticks\":\"\"}},\"colorscale\":{\"sequential\":[[0.0,\"#0d0887\"],[0.1111111111111111,\"#46039f\"],[0.2222222222222222,\"#7201a8\"],[0.3333333333333333,\"#9c179e\"],[0.4444444444444444,\"#bd3786\"],[0.5555555555555556,\"#d8576b\"],[0.6666666666666666,\"#ed7953\"],[0.7777777777777778,\"#fb9f3a\"],[0.8888888888888888,\"#fdca26\"],[1.0,\"#f0f921\"]],\"sequentialminus\":[[0.0,\"#0d0887\"],[0.1111111111111111,\"#46039f\"],[0.2222222222222222,\"#7201a8\"],[0.3333333333333333,\"#9c179e\"],[0.4444444444444444,\"#bd3786\"],[0.5555555555555556,\"#d8576b\"],[0.6666666666666666,\"#ed7953\"],[0.7777777777777778,\"#fb9f3a\"],[0.8888888888888888,\"#fdca26\"],[1.0,\"#f0f921\"]],\"diverging\":[[0,\"#8e0152\"],[0.1,\"#c51b7d\"],[0.2,\"#de77ae\"],[0.3,\"#f1b6da\"],[0.4,\"#fde0ef\"],[0.5,\"#f7f7f7\"],[0.6,\"#e6f5d0\"],[0.7,\"#b8e186\"],[0.8,\"#7fbc41\"],[0.9,\"#4d9221\"],[1,\"#276419\"]]},\"xaxis\":{\"gridcolor\":\"white\",\"linecolor\":\"white\",\"ticks\":\"\",\"title\":{\"standoff\":15},\"zerolinecolor\":\"white\",\"automargin\":true,\"zerolinewidth\":2},\"yaxis\":{\"gridcolor\":\"white\",\"linecolor\":\"white\",\"ticks\":\"\",\"title\":{\"standoff\":15},\"zerolinecolor\":\"white\",\"automargin\":true,\"zerolinewidth\":2},\"scene\":{\"xaxis\":{\"backgroundcolor\":\"#E5ECF6\",\"gridcolor\":\"white\",\"linecolor\":\"white\",\"showbackground\":true,\"ticks\":\"\",\"zerolinecolor\":\"white\",\"gridwidth\":2},\"yaxis\":{\"backgroundcolor\":\"#E5ECF6\",\"gridcolor\":\"white\",\"linecolor\":\"white\",\"showbackground\":true,\"ticks\":\"\",\"zerolinecolor\":\"white\",\"gridwidth\":2},\"zaxis\":{\"backgroundcolor\":\"#E5ECF6\",\"gridcolor\":\"white\",\"linecolor\":\"white\",\"showbackground\":true,\"ticks\":\"\",\"zerolinecolor\":\"white\",\"gridwidth\":2}},\"shapedefaults\":{\"line\":{\"color\":\"#2a3f5f\"}},\"annotationdefaults\":{\"arrowcolor\":\"#2a3f5f\",\"arrowhead\":0,\"arrowwidth\":1},\"geo\":{\"bgcolor\":\"white\",\"landcolor\":\"#E5ECF6\",\"subunitcolor\":\"white\",\"showland\":true,\"showlakes\":true,\"lakecolor\":\"white\"},\"title\":{\"x\":0.05},\"mapbox\":{\"style\":\"light\"}}}},                        {\"responsive\": true}                    ).then(function(){\n",
       "                            \n",
       "var gd = document.getElementById('35447b61-5970-4cdf-b766-6f20c471c479');\n",
       "var x = new MutationObserver(function (mutations, observer) {{\n",
       "        var display = window.getComputedStyle(gd).display;\n",
       "        if (!display || display === 'none') {{\n",
       "            console.log([gd, 'removed!']);\n",
       "            Plotly.purge(gd);\n",
       "            observer.disconnect();\n",
       "        }}\n",
       "}});\n",
       "\n",
       "// Listen for the removal of the full notebook cells\n",
       "var notebookContainer = gd.closest('#notebook-container');\n",
       "if (notebookContainer) {{\n",
       "    x.observe(notebookContainer, {childList: true});\n",
       "}}\n",
       "\n",
       "// Listen for the clearing of the current output cell\n",
       "var outputEl = gd.closest('.output');\n",
       "if (outputEl) {{\n",
       "    x.observe(outputEl, {childList: true});\n",
       "}}\n",
       "\n",
       "                        })                };                });            </script>        </div>"
      ]
     },
     "metadata": {},
     "output_type": "display_data"
    }
   ],
   "source": [
    "fig=go.Figure()\n",
    "fig.add_trace(go.Scatter(x=NVDA.index,\n",
    "                         y=NVDA['price'],\n",
    "                         opacity=0.7,\n",
    "                         line=dict(color='blue', width=2),\n",
    "                         name='NVDA - Actual'))\n",
    "fig.add_trace(go.Scatter(x=nvda_predictions.index,\n",
    "                         y=nvda_predictions['price'],\n",
    "                         opacity=0.7,\n",
    "                         line=dict(color='red', width=2),\n",
    "                         name='NVDA - prediction'))\n",
    "# Show the figure\n",
    "fig.show()"
   ]
  },
  {
   "cell_type": "code",
   "execution_count": 63,
   "id": "d74f879e",
   "metadata": {},
   "outputs": [
    {
     "data": {
      "application/vnd.plotly.v1+json": {
       "config": {
        "plotlyServerURL": "https://plot.ly"
       },
       "data": [
        {
         "line": {
          "color": "green",
          "width": 2
         },
         "name": "Meta",
         "opacity": 0.7,
         "type": "scatter",
         "x": [
          "2023-10-17 06:35:03",
          "2023-10-17 06:36:32",
          "2023-10-17 06:37:18",
          "2023-10-17 06:38:19",
          "2023-10-17 06:39:08",
          "2023-10-17 06:40:03",
          "2023-10-17 06:41:26",
          "2023-10-17 06:42:00",
          "2023-10-17 06:43:03",
          "2023-10-17 06:44:08",
          "2023-10-17 06:45:25",
          "2023-10-17 06:46:00",
          "2023-10-17 06:47:04",
          "2023-10-17 06:48:15",
          "2023-10-17 06:49:27",
          "2023-10-17 06:50:12",
          "2023-10-17 06:51:16",
          "2023-10-17 06:52:50",
          "2023-10-17 06:53:00",
          "2023-10-17 06:54:11",
          "2023-10-17 06:55:52",
          "2023-10-17 06:56:13",
          "2023-10-17 06:57:05",
          "2023-10-17 06:58:14",
          "2023-10-17 06:59:08"
         ],
         "xaxis": "x",
         "y": [
          320.62,
          320.64,
          320.63,
          320.64,
          320.64,
          320.45,
          320.23,
          320.18,
          320,
          319.92,
          320.06,
          320.1,
          320.12,
          320.18,
          320.15,
          320.2,
          320,
          320.17,
          320.18,
          320.1,
          320.16,
          320.11,
          320.2,
          320.19,
          320.19
         ],
         "yaxis": "y"
        },
        {
         "line": {
          "color": "green",
          "dash": "dot",
          "width": 2
         },
         "name": "Meta - prediction",
         "opacity": 0.7,
         "type": "scatter",
         "x": [
          "2023-10-17 07:00:00",
          "2023-10-17 07:01:00",
          "2023-10-17 07:02:00",
          "2023-10-17 07:03:00",
          "2023-10-17 07:04:00"
         ],
         "xaxis": "x",
         "y": [
          320.16218343257907,
          320.15297261953356,
          320.1480166912079,
          320.14675641775136,
          320.1477900123596
         ],
         "yaxis": "y"
        },
        {
         "line": {
          "color": "blue",
          "width": 2
         },
         "name": "NVDA",
         "opacity": 0.7,
         "type": "scatter",
         "x": [
          "2023-10-17 06:34:55",
          "2023-10-17 06:35:09",
          "2023-10-17 06:36:00",
          "2023-10-17 06:37:01",
          "2023-10-17 06:38:00",
          "2023-10-17 06:39:00",
          "2023-10-17 06:40:07",
          "2023-10-17 06:41:01",
          "2023-10-17 06:42:05",
          "2023-10-17 06:43:00",
          "2023-10-17 06:44:18",
          "2023-10-17 06:45:00",
          "2023-10-17 06:46:01",
          "2023-10-17 06:47:01",
          "2023-10-17 06:48:00",
          "2023-10-17 06:49:06",
          "2023-10-17 06:50:01",
          "2023-10-17 06:51:01",
          "2023-10-17 06:52:05",
          "2023-10-17 06:53:14",
          "2023-10-17 06:54:13",
          "2023-10-17 06:55:08",
          "2023-10-17 06:56:01",
          "2023-10-17 06:57:00",
          "2023-10-17 06:58:03",
          "2023-10-17 06:59:01"
         ],
         "xaxis": "x",
         "y": [
          456,
          455.97,
          456.12,
          456.23,
          456.16,
          456.4,
          456.52,
          456.5,
          456.19,
          456.22,
          456.32,
          456.53,
          456.7,
          456.8,
          456.79,
          456.73,
          456.67,
          456.46,
          456.4,
          456.42,
          456.45,
          456.69,
          456.48,
          456.7,
          456.86,
          457.17
         ],
         "yaxis": "y2"
        },
        {
         "line": {
          "color": "blue",
          "dash": "dot",
          "width": 2
         },
         "name": "NVDA - prediction",
         "opacity": 0.7,
         "type": "scatter",
         "x": [
          "2023-10-17 07:00:00",
          "2023-10-17 07:01:00",
          "2023-10-17 07:02:00",
          "2023-10-17 07:03:00",
          "2023-10-17 07:04:00"
         ],
         "xaxis": "x",
         "y": [
          456.5266547155381,
          456.535859913826,
          456.54284088134773,
          456.5476705026627,
          456.55058856725697
         ],
         "yaxis": "y2"
        }
       ],
       "layout": {
        "height": 500,
        "paper_bgcolor": "rgb(247,247,247)",
        "plot_bgcolor": "rgb(247,247,247)",
        "template": {
         "data": {
          "bar": [
           {
            "error_x": {
             "color": "#2a3f5f"
            },
            "error_y": {
             "color": "#2a3f5f"
            },
            "marker": {
             "line": {
              "color": "#E5ECF6",
              "width": 0.5
             },
             "pattern": {
              "fillmode": "overlay",
              "size": 10,
              "solidity": 0.2
             }
            },
            "type": "bar"
           }
          ],
          "barpolar": [
           {
            "marker": {
             "line": {
              "color": "#E5ECF6",
              "width": 0.5
             },
             "pattern": {
              "fillmode": "overlay",
              "size": 10,
              "solidity": 0.2
             }
            },
            "type": "barpolar"
           }
          ],
          "carpet": [
           {
            "aaxis": {
             "endlinecolor": "#2a3f5f",
             "gridcolor": "white",
             "linecolor": "white",
             "minorgridcolor": "white",
             "startlinecolor": "#2a3f5f"
            },
            "baxis": {
             "endlinecolor": "#2a3f5f",
             "gridcolor": "white",
             "linecolor": "white",
             "minorgridcolor": "white",
             "startlinecolor": "#2a3f5f"
            },
            "type": "carpet"
           }
          ],
          "choropleth": [
           {
            "colorbar": {
             "outlinewidth": 0,
             "ticks": ""
            },
            "type": "choropleth"
           }
          ],
          "contour": [
           {
            "colorbar": {
             "outlinewidth": 0,
             "ticks": ""
            },
            "colorscale": [
             [
              0,
              "#0d0887"
             ],
             [
              0.1111111111111111,
              "#46039f"
             ],
             [
              0.2222222222222222,
              "#7201a8"
             ],
             [
              0.3333333333333333,
              "#9c179e"
             ],
             [
              0.4444444444444444,
              "#bd3786"
             ],
             [
              0.5555555555555556,
              "#d8576b"
             ],
             [
              0.6666666666666666,
              "#ed7953"
             ],
             [
              0.7777777777777778,
              "#fb9f3a"
             ],
             [
              0.8888888888888888,
              "#fdca26"
             ],
             [
              1,
              "#f0f921"
             ]
            ],
            "type": "contour"
           }
          ],
          "contourcarpet": [
           {
            "colorbar": {
             "outlinewidth": 0,
             "ticks": ""
            },
            "type": "contourcarpet"
           }
          ],
          "heatmap": [
           {
            "colorbar": {
             "outlinewidth": 0,
             "ticks": ""
            },
            "colorscale": [
             [
              0,
              "#0d0887"
             ],
             [
              0.1111111111111111,
              "#46039f"
             ],
             [
              0.2222222222222222,
              "#7201a8"
             ],
             [
              0.3333333333333333,
              "#9c179e"
             ],
             [
              0.4444444444444444,
              "#bd3786"
             ],
             [
              0.5555555555555556,
              "#d8576b"
             ],
             [
              0.6666666666666666,
              "#ed7953"
             ],
             [
              0.7777777777777778,
              "#fb9f3a"
             ],
             [
              0.8888888888888888,
              "#fdca26"
             ],
             [
              1,
              "#f0f921"
             ]
            ],
            "type": "heatmap"
           }
          ],
          "heatmapgl": [
           {
            "colorbar": {
             "outlinewidth": 0,
             "ticks": ""
            },
            "colorscale": [
             [
              0,
              "#0d0887"
             ],
             [
              0.1111111111111111,
              "#46039f"
             ],
             [
              0.2222222222222222,
              "#7201a8"
             ],
             [
              0.3333333333333333,
              "#9c179e"
             ],
             [
              0.4444444444444444,
              "#bd3786"
             ],
             [
              0.5555555555555556,
              "#d8576b"
             ],
             [
              0.6666666666666666,
              "#ed7953"
             ],
             [
              0.7777777777777778,
              "#fb9f3a"
             ],
             [
              0.8888888888888888,
              "#fdca26"
             ],
             [
              1,
              "#f0f921"
             ]
            ],
            "type": "heatmapgl"
           }
          ],
          "histogram": [
           {
            "marker": {
             "pattern": {
              "fillmode": "overlay",
              "size": 10,
              "solidity": 0.2
             }
            },
            "type": "histogram"
           }
          ],
          "histogram2d": [
           {
            "colorbar": {
             "outlinewidth": 0,
             "ticks": ""
            },
            "colorscale": [
             [
              0,
              "#0d0887"
             ],
             [
              0.1111111111111111,
              "#46039f"
             ],
             [
              0.2222222222222222,
              "#7201a8"
             ],
             [
              0.3333333333333333,
              "#9c179e"
             ],
             [
              0.4444444444444444,
              "#bd3786"
             ],
             [
              0.5555555555555556,
              "#d8576b"
             ],
             [
              0.6666666666666666,
              "#ed7953"
             ],
             [
              0.7777777777777778,
              "#fb9f3a"
             ],
             [
              0.8888888888888888,
              "#fdca26"
             ],
             [
              1,
              "#f0f921"
             ]
            ],
            "type": "histogram2d"
           }
          ],
          "histogram2dcontour": [
           {
            "colorbar": {
             "outlinewidth": 0,
             "ticks": ""
            },
            "colorscale": [
             [
              0,
              "#0d0887"
             ],
             [
              0.1111111111111111,
              "#46039f"
             ],
             [
              0.2222222222222222,
              "#7201a8"
             ],
             [
              0.3333333333333333,
              "#9c179e"
             ],
             [
              0.4444444444444444,
              "#bd3786"
             ],
             [
              0.5555555555555556,
              "#d8576b"
             ],
             [
              0.6666666666666666,
              "#ed7953"
             ],
             [
              0.7777777777777778,
              "#fb9f3a"
             ],
             [
              0.8888888888888888,
              "#fdca26"
             ],
             [
              1,
              "#f0f921"
             ]
            ],
            "type": "histogram2dcontour"
           }
          ],
          "mesh3d": [
           {
            "colorbar": {
             "outlinewidth": 0,
             "ticks": ""
            },
            "type": "mesh3d"
           }
          ],
          "parcoords": [
           {
            "line": {
             "colorbar": {
              "outlinewidth": 0,
              "ticks": ""
             }
            },
            "type": "parcoords"
           }
          ],
          "pie": [
           {
            "automargin": true,
            "type": "pie"
           }
          ],
          "scatter": [
           {
            "fillpattern": {
             "fillmode": "overlay",
             "size": 10,
             "solidity": 0.2
            },
            "type": "scatter"
           }
          ],
          "scatter3d": [
           {
            "line": {
             "colorbar": {
              "outlinewidth": 0,
              "ticks": ""
             }
            },
            "marker": {
             "colorbar": {
              "outlinewidth": 0,
              "ticks": ""
             }
            },
            "type": "scatter3d"
           }
          ],
          "scattercarpet": [
           {
            "marker": {
             "colorbar": {
              "outlinewidth": 0,
              "ticks": ""
             }
            },
            "type": "scattercarpet"
           }
          ],
          "scattergeo": [
           {
            "marker": {
             "colorbar": {
              "outlinewidth": 0,
              "ticks": ""
             }
            },
            "type": "scattergeo"
           }
          ],
          "scattergl": [
           {
            "marker": {
             "colorbar": {
              "outlinewidth": 0,
              "ticks": ""
             }
            },
            "type": "scattergl"
           }
          ],
          "scattermapbox": [
           {
            "marker": {
             "colorbar": {
              "outlinewidth": 0,
              "ticks": ""
             }
            },
            "type": "scattermapbox"
           }
          ],
          "scatterpolar": [
           {
            "marker": {
             "colorbar": {
              "outlinewidth": 0,
              "ticks": ""
             }
            },
            "type": "scatterpolar"
           }
          ],
          "scatterpolargl": [
           {
            "marker": {
             "colorbar": {
              "outlinewidth": 0,
              "ticks": ""
             }
            },
            "type": "scatterpolargl"
           }
          ],
          "scatterternary": [
           {
            "marker": {
             "colorbar": {
              "outlinewidth": 0,
              "ticks": ""
             }
            },
            "type": "scatterternary"
           }
          ],
          "surface": [
           {
            "colorbar": {
             "outlinewidth": 0,
             "ticks": ""
            },
            "colorscale": [
             [
              0,
              "#0d0887"
             ],
             [
              0.1111111111111111,
              "#46039f"
             ],
             [
              0.2222222222222222,
              "#7201a8"
             ],
             [
              0.3333333333333333,
              "#9c179e"
             ],
             [
              0.4444444444444444,
              "#bd3786"
             ],
             [
              0.5555555555555556,
              "#d8576b"
             ],
             [
              0.6666666666666666,
              "#ed7953"
             ],
             [
              0.7777777777777778,
              "#fb9f3a"
             ],
             [
              0.8888888888888888,
              "#fdca26"
             ],
             [
              1,
              "#f0f921"
             ]
            ],
            "type": "surface"
           }
          ],
          "table": [
           {
            "cells": {
             "fill": {
              "color": "#EBF0F8"
             },
             "line": {
              "color": "white"
             }
            },
            "header": {
             "fill": {
              "color": "#C8D4E3"
             },
             "line": {
              "color": "white"
             }
            },
            "type": "table"
           }
          ]
         },
         "layout": {
          "annotationdefaults": {
           "arrowcolor": "#2a3f5f",
           "arrowhead": 0,
           "arrowwidth": 1
          },
          "autotypenumbers": "strict",
          "coloraxis": {
           "colorbar": {
            "outlinewidth": 0,
            "ticks": ""
           }
          },
          "colorscale": {
           "diverging": [
            [
             0,
             "#8e0152"
            ],
            [
             0.1,
             "#c51b7d"
            ],
            [
             0.2,
             "#de77ae"
            ],
            [
             0.3,
             "#f1b6da"
            ],
            [
             0.4,
             "#fde0ef"
            ],
            [
             0.5,
             "#f7f7f7"
            ],
            [
             0.6,
             "#e6f5d0"
            ],
            [
             0.7,
             "#b8e186"
            ],
            [
             0.8,
             "#7fbc41"
            ],
            [
             0.9,
             "#4d9221"
            ],
            [
             1,
             "#276419"
            ]
           ],
           "sequential": [
            [
             0,
             "#0d0887"
            ],
            [
             0.1111111111111111,
             "#46039f"
            ],
            [
             0.2222222222222222,
             "#7201a8"
            ],
            [
             0.3333333333333333,
             "#9c179e"
            ],
            [
             0.4444444444444444,
             "#bd3786"
            ],
            [
             0.5555555555555556,
             "#d8576b"
            ],
            [
             0.6666666666666666,
             "#ed7953"
            ],
            [
             0.7777777777777778,
             "#fb9f3a"
            ],
            [
             0.8888888888888888,
             "#fdca26"
            ],
            [
             1,
             "#f0f921"
            ]
           ],
           "sequentialminus": [
            [
             0,
             "#0d0887"
            ],
            [
             0.1111111111111111,
             "#46039f"
            ],
            [
             0.2222222222222222,
             "#7201a8"
            ],
            [
             0.3333333333333333,
             "#9c179e"
            ],
            [
             0.4444444444444444,
             "#bd3786"
            ],
            [
             0.5555555555555556,
             "#d8576b"
            ],
            [
             0.6666666666666666,
             "#ed7953"
            ],
            [
             0.7777777777777778,
             "#fb9f3a"
            ],
            [
             0.8888888888888888,
             "#fdca26"
            ],
            [
             1,
             "#f0f921"
            ]
           ]
          },
          "colorway": [
           "#636efa",
           "#EF553B",
           "#00cc96",
           "#ab63fa",
           "#FFA15A",
           "#19d3f3",
           "#FF6692",
           "#B6E880",
           "#FF97FF",
           "#FECB52"
          ],
          "font": {
           "color": "#2a3f5f"
          },
          "geo": {
           "bgcolor": "white",
           "lakecolor": "white",
           "landcolor": "#E5ECF6",
           "showlakes": true,
           "showland": true,
           "subunitcolor": "white"
          },
          "hoverlabel": {
           "align": "left"
          },
          "hovermode": "closest",
          "mapbox": {
           "style": "light"
          },
          "paper_bgcolor": "white",
          "plot_bgcolor": "#E5ECF6",
          "polar": {
           "angularaxis": {
            "gridcolor": "white",
            "linecolor": "white",
            "ticks": ""
           },
           "bgcolor": "#E5ECF6",
           "radialaxis": {
            "gridcolor": "white",
            "linecolor": "white",
            "ticks": ""
           }
          },
          "scene": {
           "xaxis": {
            "backgroundcolor": "#E5ECF6",
            "gridcolor": "white",
            "gridwidth": 2,
            "linecolor": "white",
            "showbackground": true,
            "ticks": "",
            "zerolinecolor": "white"
           },
           "yaxis": {
            "backgroundcolor": "#E5ECF6",
            "gridcolor": "white",
            "gridwidth": 2,
            "linecolor": "white",
            "showbackground": true,
            "ticks": "",
            "zerolinecolor": "white"
           },
           "zaxis": {
            "backgroundcolor": "#E5ECF6",
            "gridcolor": "white",
            "gridwidth": 2,
            "linecolor": "white",
            "showbackground": true,
            "ticks": "",
            "zerolinecolor": "white"
           }
          },
          "shapedefaults": {
           "line": {
            "color": "#2a3f5f"
           }
          },
          "ternary": {
           "aaxis": {
            "gridcolor": "white",
            "linecolor": "white",
            "ticks": ""
           },
           "baxis": {
            "gridcolor": "white",
            "linecolor": "white",
            "ticks": ""
           },
           "bgcolor": "#E5ECF6",
           "caxis": {
            "gridcolor": "white",
            "linecolor": "white",
            "ticks": ""
           }
          },
          "title": {
           "x": 0.05
          },
          "xaxis": {
           "automargin": true,
           "gridcolor": "white",
           "linecolor": "white",
           "ticks": "",
           "title": {
            "standoff": 15
           },
           "zerolinecolor": "white",
           "zerolinewidth": 2
          },
          "yaxis": {
           "automargin": true,
           "gridcolor": "white",
           "linecolor": "white",
           "ticks": "",
           "title": {
            "standoff": 15
           },
           "zerolinecolor": "white",
           "zerolinewidth": 2
          }
         }
        },
        "title": {
         "font": {
          "color": "#000",
          "size": 24
         },
         "text": "Price<br><sup>Predictions</sup>"
        },
        "width": 1000,
        "xaxis": {
         "anchor": "y",
         "domain": [
          0,
          0.94
         ],
         "rangebreaks": [
          {
           "bounds": [
            "sat",
            "mon"
           ]
          }
         ],
         "rangeslider": {
          "visible": false
         },
         "showgrid": false,
         "visible": true
        },
        "yaxis": {
         "anchor": "x",
         "domain": [
          0,
          1
         ],
         "title": {
          "font": {
           "color": "green"
          },
          "text": "<b>META</b> prices"
         }
        },
        "yaxis2": {
         "anchor": "x",
         "overlaying": "y",
         "side": "right",
         "title": {
          "font": {
           "color": "blue"
          },
          "text": "<b>NVDA</b> prices"
         }
        }
       }
      },
      "text/html": [
       "<div>                            <div id=\"ac9c2687-aad6-424b-b986-105b9f4a47be\" class=\"plotly-graph-div\" style=\"height:500px; width:1000px;\"></div>            <script type=\"text/javascript\">                require([\"plotly\"], function(Plotly) {                    window.PLOTLYENV=window.PLOTLYENV || {};                                    if (document.getElementById(\"ac9c2687-aad6-424b-b986-105b9f4a47be\")) {                    Plotly.newPlot(                        \"ac9c2687-aad6-424b-b986-105b9f4a47be\",                        [{\"line\":{\"color\":\"green\",\"width\":2},\"name\":\"Meta\",\"opacity\":0.7,\"x\":[\"2023-10-17 06:35:03\",\"2023-10-17 06:36:32\",\"2023-10-17 06:37:18\",\"2023-10-17 06:38:19\",\"2023-10-17 06:39:08\",\"2023-10-17 06:40:03\",\"2023-10-17 06:41:26\",\"2023-10-17 06:42:00\",\"2023-10-17 06:43:03\",\"2023-10-17 06:44:08\",\"2023-10-17 06:45:25\",\"2023-10-17 06:46:00\",\"2023-10-17 06:47:04\",\"2023-10-17 06:48:15\",\"2023-10-17 06:49:27\",\"2023-10-17 06:50:12\",\"2023-10-17 06:51:16\",\"2023-10-17 06:52:50\",\"2023-10-17 06:53:00\",\"2023-10-17 06:54:11\",\"2023-10-17 06:55:52\",\"2023-10-17 06:56:13\",\"2023-10-17 06:57:05\",\"2023-10-17 06:58:14\",\"2023-10-17 06:59:08\"],\"y\":[320.62,320.64,320.63,320.64,320.64,320.45,320.23,320.18,320.0,319.92,320.06,320.1,320.12,320.18,320.15,320.2,320.0,320.17,320.18,320.1,320.16,320.11,320.2,320.19,320.19],\"type\":\"scatter\",\"xaxis\":\"x\",\"yaxis\":\"y\"},{\"line\":{\"color\":\"green\",\"dash\":\"dot\",\"width\":2},\"name\":\"Meta - prediction\",\"opacity\":0.7,\"x\":[\"2023-10-17 07:00:00\",\"2023-10-17 07:01:00\",\"2023-10-17 07:02:00\",\"2023-10-17 07:03:00\",\"2023-10-17 07:04:00\"],\"y\":[320.16218343257907,320.15297261953356,320.1480166912079,320.14675641775136,320.1477900123596],\"type\":\"scatter\",\"xaxis\":\"x\",\"yaxis\":\"y\"},{\"line\":{\"color\":\"blue\",\"width\":2},\"name\":\"NVDA\",\"opacity\":0.7,\"x\":[\"2023-10-17 06:34:55\",\"2023-10-17 06:35:09\",\"2023-10-17 06:36:00\",\"2023-10-17 06:37:01\",\"2023-10-17 06:38:00\",\"2023-10-17 06:39:00\",\"2023-10-17 06:40:07\",\"2023-10-17 06:41:01\",\"2023-10-17 06:42:05\",\"2023-10-17 06:43:00\",\"2023-10-17 06:44:18\",\"2023-10-17 06:45:00\",\"2023-10-17 06:46:01\",\"2023-10-17 06:47:01\",\"2023-10-17 06:48:00\",\"2023-10-17 06:49:06\",\"2023-10-17 06:50:01\",\"2023-10-17 06:51:01\",\"2023-10-17 06:52:05\",\"2023-10-17 06:53:14\",\"2023-10-17 06:54:13\",\"2023-10-17 06:55:08\",\"2023-10-17 06:56:01\",\"2023-10-17 06:57:00\",\"2023-10-17 06:58:03\",\"2023-10-17 06:59:01\"],\"y\":[456.0,455.97,456.12,456.23,456.16,456.4,456.52,456.5,456.19,456.22,456.32,456.53,456.7,456.8,456.79,456.73,456.67,456.46,456.4,456.42,456.45,456.69,456.48,456.7,456.86,457.17],\"type\":\"scatter\",\"xaxis\":\"x\",\"yaxis\":\"y2\"},{\"line\":{\"color\":\"blue\",\"dash\":\"dot\",\"width\":2},\"name\":\"NVDA - prediction\",\"opacity\":0.7,\"x\":[\"2023-10-17 07:00:00\",\"2023-10-17 07:01:00\",\"2023-10-17 07:02:00\",\"2023-10-17 07:03:00\",\"2023-10-17 07:04:00\"],\"y\":[456.5266547155381,456.535859913826,456.54284088134773,456.5476705026627,456.55058856725697],\"type\":\"scatter\",\"xaxis\":\"x\",\"yaxis\":\"y2\"}],                        {\"template\":{\"data\":{\"histogram2dcontour\":[{\"type\":\"histogram2dcontour\",\"colorbar\":{\"outlinewidth\":0,\"ticks\":\"\"},\"colorscale\":[[0.0,\"#0d0887\"],[0.1111111111111111,\"#46039f\"],[0.2222222222222222,\"#7201a8\"],[0.3333333333333333,\"#9c179e\"],[0.4444444444444444,\"#bd3786\"],[0.5555555555555556,\"#d8576b\"],[0.6666666666666666,\"#ed7953\"],[0.7777777777777778,\"#fb9f3a\"],[0.8888888888888888,\"#fdca26\"],[1.0,\"#f0f921\"]]}],\"choropleth\":[{\"type\":\"choropleth\",\"colorbar\":{\"outlinewidth\":0,\"ticks\":\"\"}}],\"histogram2d\":[{\"type\":\"histogram2d\",\"colorbar\":{\"outlinewidth\":0,\"ticks\":\"\"},\"colorscale\":[[0.0,\"#0d0887\"],[0.1111111111111111,\"#46039f\"],[0.2222222222222222,\"#7201a8\"],[0.3333333333333333,\"#9c179e\"],[0.4444444444444444,\"#bd3786\"],[0.5555555555555556,\"#d8576b\"],[0.6666666666666666,\"#ed7953\"],[0.7777777777777778,\"#fb9f3a\"],[0.8888888888888888,\"#fdca26\"],[1.0,\"#f0f921\"]]}],\"heatmap\":[{\"type\":\"heatmap\",\"colorbar\":{\"outlinewidth\":0,\"ticks\":\"\"},\"colorscale\":[[0.0,\"#0d0887\"],[0.1111111111111111,\"#46039f\"],[0.2222222222222222,\"#7201a8\"],[0.3333333333333333,\"#9c179e\"],[0.4444444444444444,\"#bd3786\"],[0.5555555555555556,\"#d8576b\"],[0.6666666666666666,\"#ed7953\"],[0.7777777777777778,\"#fb9f3a\"],[0.8888888888888888,\"#fdca26\"],[1.0,\"#f0f921\"]]}],\"heatmapgl\":[{\"type\":\"heatmapgl\",\"colorbar\":{\"outlinewidth\":0,\"ticks\":\"\"},\"colorscale\":[[0.0,\"#0d0887\"],[0.1111111111111111,\"#46039f\"],[0.2222222222222222,\"#7201a8\"],[0.3333333333333333,\"#9c179e\"],[0.4444444444444444,\"#bd3786\"],[0.5555555555555556,\"#d8576b\"],[0.6666666666666666,\"#ed7953\"],[0.7777777777777778,\"#fb9f3a\"],[0.8888888888888888,\"#fdca26\"],[1.0,\"#f0f921\"]]}],\"contourcarpet\":[{\"type\":\"contourcarpet\",\"colorbar\":{\"outlinewidth\":0,\"ticks\":\"\"}}],\"contour\":[{\"type\":\"contour\",\"colorbar\":{\"outlinewidth\":0,\"ticks\":\"\"},\"colorscale\":[[0.0,\"#0d0887\"],[0.1111111111111111,\"#46039f\"],[0.2222222222222222,\"#7201a8\"],[0.3333333333333333,\"#9c179e\"],[0.4444444444444444,\"#bd3786\"],[0.5555555555555556,\"#d8576b\"],[0.6666666666666666,\"#ed7953\"],[0.7777777777777778,\"#fb9f3a\"],[0.8888888888888888,\"#fdca26\"],[1.0,\"#f0f921\"]]}],\"surface\":[{\"type\":\"surface\",\"colorbar\":{\"outlinewidth\":0,\"ticks\":\"\"},\"colorscale\":[[0.0,\"#0d0887\"],[0.1111111111111111,\"#46039f\"],[0.2222222222222222,\"#7201a8\"],[0.3333333333333333,\"#9c179e\"],[0.4444444444444444,\"#bd3786\"],[0.5555555555555556,\"#d8576b\"],[0.6666666666666666,\"#ed7953\"],[0.7777777777777778,\"#fb9f3a\"],[0.8888888888888888,\"#fdca26\"],[1.0,\"#f0f921\"]]}],\"mesh3d\":[{\"type\":\"mesh3d\",\"colorbar\":{\"outlinewidth\":0,\"ticks\":\"\"}}],\"scatter\":[{\"fillpattern\":{\"fillmode\":\"overlay\",\"size\":10,\"solidity\":0.2},\"type\":\"scatter\"}],\"parcoords\":[{\"type\":\"parcoords\",\"line\":{\"colorbar\":{\"outlinewidth\":0,\"ticks\":\"\"}}}],\"scatterpolargl\":[{\"type\":\"scatterpolargl\",\"marker\":{\"colorbar\":{\"outlinewidth\":0,\"ticks\":\"\"}}}],\"bar\":[{\"error_x\":{\"color\":\"#2a3f5f\"},\"error_y\":{\"color\":\"#2a3f5f\"},\"marker\":{\"line\":{\"color\":\"#E5ECF6\",\"width\":0.5},\"pattern\":{\"fillmode\":\"overlay\",\"size\":10,\"solidity\":0.2}},\"type\":\"bar\"}],\"scattergeo\":[{\"type\":\"scattergeo\",\"marker\":{\"colorbar\":{\"outlinewidth\":0,\"ticks\":\"\"}}}],\"scatterpolar\":[{\"type\":\"scatterpolar\",\"marker\":{\"colorbar\":{\"outlinewidth\":0,\"ticks\":\"\"}}}],\"histogram\":[{\"marker\":{\"pattern\":{\"fillmode\":\"overlay\",\"size\":10,\"solidity\":0.2}},\"type\":\"histogram\"}],\"scattergl\":[{\"type\":\"scattergl\",\"marker\":{\"colorbar\":{\"outlinewidth\":0,\"ticks\":\"\"}}}],\"scatter3d\":[{\"type\":\"scatter3d\",\"line\":{\"colorbar\":{\"outlinewidth\":0,\"ticks\":\"\"}},\"marker\":{\"colorbar\":{\"outlinewidth\":0,\"ticks\":\"\"}}}],\"scattermapbox\":[{\"type\":\"scattermapbox\",\"marker\":{\"colorbar\":{\"outlinewidth\":0,\"ticks\":\"\"}}}],\"scatterternary\":[{\"type\":\"scatterternary\",\"marker\":{\"colorbar\":{\"outlinewidth\":0,\"ticks\":\"\"}}}],\"scattercarpet\":[{\"type\":\"scattercarpet\",\"marker\":{\"colorbar\":{\"outlinewidth\":0,\"ticks\":\"\"}}}],\"carpet\":[{\"aaxis\":{\"endlinecolor\":\"#2a3f5f\",\"gridcolor\":\"white\",\"linecolor\":\"white\",\"minorgridcolor\":\"white\",\"startlinecolor\":\"#2a3f5f\"},\"baxis\":{\"endlinecolor\":\"#2a3f5f\",\"gridcolor\":\"white\",\"linecolor\":\"white\",\"minorgridcolor\":\"white\",\"startlinecolor\":\"#2a3f5f\"},\"type\":\"carpet\"}],\"table\":[{\"cells\":{\"fill\":{\"color\":\"#EBF0F8\"},\"line\":{\"color\":\"white\"}},\"header\":{\"fill\":{\"color\":\"#C8D4E3\"},\"line\":{\"color\":\"white\"}},\"type\":\"table\"}],\"barpolar\":[{\"marker\":{\"line\":{\"color\":\"#E5ECF6\",\"width\":0.5},\"pattern\":{\"fillmode\":\"overlay\",\"size\":10,\"solidity\":0.2}},\"type\":\"barpolar\"}],\"pie\":[{\"automargin\":true,\"type\":\"pie\"}]},\"layout\":{\"autotypenumbers\":\"strict\",\"colorway\":[\"#636efa\",\"#EF553B\",\"#00cc96\",\"#ab63fa\",\"#FFA15A\",\"#19d3f3\",\"#FF6692\",\"#B6E880\",\"#FF97FF\",\"#FECB52\"],\"font\":{\"color\":\"#2a3f5f\"},\"hovermode\":\"closest\",\"hoverlabel\":{\"align\":\"left\"},\"paper_bgcolor\":\"white\",\"plot_bgcolor\":\"#E5ECF6\",\"polar\":{\"bgcolor\":\"#E5ECF6\",\"angularaxis\":{\"gridcolor\":\"white\",\"linecolor\":\"white\",\"ticks\":\"\"},\"radialaxis\":{\"gridcolor\":\"white\",\"linecolor\":\"white\",\"ticks\":\"\"}},\"ternary\":{\"bgcolor\":\"#E5ECF6\",\"aaxis\":{\"gridcolor\":\"white\",\"linecolor\":\"white\",\"ticks\":\"\"},\"baxis\":{\"gridcolor\":\"white\",\"linecolor\":\"white\",\"ticks\":\"\"},\"caxis\":{\"gridcolor\":\"white\",\"linecolor\":\"white\",\"ticks\":\"\"}},\"coloraxis\":{\"colorbar\":{\"outlinewidth\":0,\"ticks\":\"\"}},\"colorscale\":{\"sequential\":[[0.0,\"#0d0887\"],[0.1111111111111111,\"#46039f\"],[0.2222222222222222,\"#7201a8\"],[0.3333333333333333,\"#9c179e\"],[0.4444444444444444,\"#bd3786\"],[0.5555555555555556,\"#d8576b\"],[0.6666666666666666,\"#ed7953\"],[0.7777777777777778,\"#fb9f3a\"],[0.8888888888888888,\"#fdca26\"],[1.0,\"#f0f921\"]],\"sequentialminus\":[[0.0,\"#0d0887\"],[0.1111111111111111,\"#46039f\"],[0.2222222222222222,\"#7201a8\"],[0.3333333333333333,\"#9c179e\"],[0.4444444444444444,\"#bd3786\"],[0.5555555555555556,\"#d8576b\"],[0.6666666666666666,\"#ed7953\"],[0.7777777777777778,\"#fb9f3a\"],[0.8888888888888888,\"#fdca26\"],[1.0,\"#f0f921\"]],\"diverging\":[[0,\"#8e0152\"],[0.1,\"#c51b7d\"],[0.2,\"#de77ae\"],[0.3,\"#f1b6da\"],[0.4,\"#fde0ef\"],[0.5,\"#f7f7f7\"],[0.6,\"#e6f5d0\"],[0.7,\"#b8e186\"],[0.8,\"#7fbc41\"],[0.9,\"#4d9221\"],[1,\"#276419\"]]},\"xaxis\":{\"gridcolor\":\"white\",\"linecolor\":\"white\",\"ticks\":\"\",\"title\":{\"standoff\":15},\"zerolinecolor\":\"white\",\"automargin\":true,\"zerolinewidth\":2},\"yaxis\":{\"gridcolor\":\"white\",\"linecolor\":\"white\",\"ticks\":\"\",\"title\":{\"standoff\":15},\"zerolinecolor\":\"white\",\"automargin\":true,\"zerolinewidth\":2},\"scene\":{\"xaxis\":{\"backgroundcolor\":\"#E5ECF6\",\"gridcolor\":\"white\",\"linecolor\":\"white\",\"showbackground\":true,\"ticks\":\"\",\"zerolinecolor\":\"white\",\"gridwidth\":2},\"yaxis\":{\"backgroundcolor\":\"#E5ECF6\",\"gridcolor\":\"white\",\"linecolor\":\"white\",\"showbackground\":true,\"ticks\":\"\",\"zerolinecolor\":\"white\",\"gridwidth\":2},\"zaxis\":{\"backgroundcolor\":\"#E5ECF6\",\"gridcolor\":\"white\",\"linecolor\":\"white\",\"showbackground\":true,\"ticks\":\"\",\"zerolinecolor\":\"white\",\"gridwidth\":2}},\"shapedefaults\":{\"line\":{\"color\":\"#2a3f5f\"}},\"annotationdefaults\":{\"arrowcolor\":\"#2a3f5f\",\"arrowhead\":0,\"arrowwidth\":1},\"geo\":{\"bgcolor\":\"white\",\"landcolor\":\"#E5ECF6\",\"subunitcolor\":\"white\",\"showland\":true,\"showlakes\":true,\"lakecolor\":\"white\"},\"title\":{\"x\":0.05},\"mapbox\":{\"style\":\"light\"}}},\"xaxis\":{\"anchor\":\"y\",\"domain\":[0.0,0.94],\"rangeslider\":{\"visible\":false},\"rangebreaks\":[{\"bounds\":[\"sat\",\"mon\"]}],\"showgrid\":false,\"visible\":true},\"yaxis\":{\"anchor\":\"x\",\"domain\":[0.0,1.0],\"title\":{\"font\":{\"color\":\"green\"},\"text\":\"\\u003cb\\u003eMETA\\u003c\\u002fb\\u003e prices\"}},\"yaxis2\":{\"anchor\":\"x\",\"overlaying\":\"y\",\"side\":\"right\",\"title\":{\"font\":{\"color\":\"blue\"},\"text\":\"\\u003cb\\u003eNVDA\\u003c\\u002fb\\u003e prices\"}},\"title\":{\"text\":\"Price\\u003cbr\\u003e\\u003csup\\u003ePredictions\\u003c\\u002fsup\\u003e\",\"font\":{\"color\":\"#000\",\"size\":24}},\"height\":500,\"width\":1000,\"plot_bgcolor\":\"rgb(247,247,247)\",\"paper_bgcolor\":\"rgb(247,247,247)\"},                        {\"responsive\": true}                    ).then(function(){\n",
       "                            \n",
       "var gd = document.getElementById('ac9c2687-aad6-424b-b986-105b9f4a47be');\n",
       "var x = new MutationObserver(function (mutations, observer) {{\n",
       "        var display = window.getComputedStyle(gd).display;\n",
       "        if (!display || display === 'none') {{\n",
       "            console.log([gd, 'removed!']);\n",
       "            Plotly.purge(gd);\n",
       "            observer.disconnect();\n",
       "        }}\n",
       "}});\n",
       "\n",
       "// Listen for the removal of the full notebook cells\n",
       "var notebookContainer = gd.closest('#notebook-container');\n",
       "if (notebookContainer) {{\n",
       "    x.observe(notebookContainer, {childList: true});\n",
       "}}\n",
       "\n",
       "// Listen for the clearing of the current output cell\n",
       "var outputEl = gd.closest('.output');\n",
       "if (outputEl) {{\n",
       "    x.observe(outputEl, {childList: true});\n",
       "}}\n",
       "\n",
       "                        })                };                });            </script>        </div>"
      ]
     },
     "metadata": {},
     "output_type": "display_data"
    }
   ],
   "source": [
    "import plotly.graph_objects as go\n",
    "from plotly.subplots import make_subplots\n",
    "\n",
    "# Create figure with secondary y-axis\n",
    "fig = make_subplots(specs=[[{\"secondary_y\": True}]])\n",
    "\n",
    "# Add traces\n",
    "\n",
    "fig.add_trace(go.Scatter(x=META.index,\n",
    "                         y=META['price'],\n",
    "                         opacity=0.7,\n",
    "                         line=dict(color='green', width=2),\n",
    "                         name='Meta'), secondary_y=False,)\n",
    "\n",
    "fig.add_trace(go.Scatter(x=meta_predictions.index,\n",
    "                         y=meta_predictions['price'],\n",
    "                         opacity=0.7,\n",
    "                         line=dict(color='green', width=2, dash='dot'),\n",
    "                         name='Meta - prediction'), secondary_y=False,)\n",
    "\n",
    "fig.add_trace(go.Scatter(x=NVDA.index,\n",
    "                         y=NVDA['price'],\n",
    "                         opacity=0.7,\n",
    "                         line=dict(color='blue', width=2),\n",
    "                         name='NVDA'), secondary_y=True,)\n",
    "\n",
    "fig.add_trace(go.Scatter(x=nvda_predictions.index,\n",
    "                         y=nvda_predictions['price'],\n",
    "                         opacity=0.7,\n",
    "                         line=dict(color='blue', width=2,  dash='dot'),\n",
    "                         name='NVDA - prediction') , secondary_y=True,)\n",
    "\n",
    "\n",
    "# Add figure title\n",
    "fig.update_layout(height=500, \n",
    "                  width=1000,\n",
    "                  xaxis_rangeslider_visible=False,\n",
    "                title=\"Price<br><sup>Predictions</sup>\",\n",
    "                 title_font_color=\"#000\", title_font_size = 24)\n",
    "\n",
    "\n",
    "\n",
    "# Set y-axes titles\n",
    "fig.update_yaxes(title_text=\"<b>META</b> prices\", secondary_y=False, title_font_color=\"green\")\n",
    "fig.update_yaxes(title_text=\"<b>NVDA</b> prices\", secondary_y=True, title_font_color=\"blue\")\n",
    "fig.update_xaxes(rangebreaks=[dict(bounds=[\"sat\", \"mon\"])], showgrid=False)\n",
    "fig.update_xaxes(visible=True)\n",
    "fig.update_layout({\n",
    "    'plot_bgcolor': 'rgb(247,247,247)',\n",
    "    'paper_bgcolor': 'rgb(247,247,247)'\n",
    "})\n",
    "\n",
    "fig.show()"
   ]
  },
  {
   "cell_type": "code",
   "execution_count": 66,
   "id": "bb1f2642",
   "metadata": {},
   "outputs": [],
   "source": [
    "# save data for streamlit\n",
    "\n",
    "path_file = './data'\n",
    "ticker_file = 'meta_data.pkl'\n",
    "pickle_out = open(path_file + '/' + ticker_file, \"wb\")\n",
    "pickle.dump(META, pickle_out)\n",
    "pickle_out.close()\n",
    "\n",
    "ticker_file = 'nvda_data.pkl'\n",
    "pickle_out = open(path_file + '/' + ticker_file, \"wb\")\n",
    "pickle.dump(NVDA, pickle_out)\n",
    "pickle_out.close()\n",
    "\n",
    "ticker_file = 'meta_pred.pkl'\n",
    "pickle_out = open(path_file + '/' + ticker_file, \"wb\")\n",
    "pickle.dump(meta_predictions, pickle_out)\n",
    "pickle_out.close()\n",
    "\n",
    "ticker_file = 'nvda_pred.pkl'\n",
    "pickle_out = open(path_file + '/' + ticker_file, \"wb\")\n",
    "pickle.dump(nvda_predictions, pickle_out)\n",
    "pickle_out.close()"
   ]
  },
  {
   "cell_type": "code",
   "execution_count": null,
   "id": "a7f9f46a",
   "metadata": {},
   "outputs": [],
   "source": []
  }
 ],
 "metadata": {
  "kernelspec": {
   "display_name": "Python 3 (ipykernel)",
   "language": "python",
   "name": "python3"
  },
  "language_info": {
   "codemirror_mode": {
    "name": "ipython",
    "version": 3
   },
   "file_extension": ".py",
   "mimetype": "text/x-python",
   "name": "python",
   "nbconvert_exporter": "python",
   "pygments_lexer": "ipython3",
   "version": "3.8.18"
  },
  "toc": {
   "base_numbering": 1,
   "nav_menu": {},
   "number_sections": true,
   "sideBar": true,
   "skip_h1_title": false,
   "title_cell": "Table of Contents",
   "title_sidebar": "Contents",
   "toc_cell": false,
   "toc_position": {
    "height": "calc(100% - 180px)",
    "left": "10px",
    "top": "150px",
    "width": "384px"
   },
   "toc_section_display": true,
   "toc_window_display": true
  }
 },
 "nbformat": 4,
 "nbformat_minor": 5
}
